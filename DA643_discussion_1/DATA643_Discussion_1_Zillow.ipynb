{
 "cells": [
  {
   "cell_type": "markdown",
   "metadata": {},
   "source": [
    "## DATA643 Discussion 1 : Zillow\n",
    "\n",
    "Yun Mai\n",
    " \n",
    "#### Problem\n",
    "Choose one commercial recommender and describe how you think it works (content-based, collaborative filtering, etc). Does the technique deliver a good experience or are the recommendation off-target?\n",
    " \n",
    "#### Introduction\n",
    "Zillow is an online real estate database company that has a very big advertising network. It provides estimated value or rent price of homes. Zillow also invested in predicting the preferences of its users who share their email address with Zillow. A user can get recommendations based on their search histories and preferences such as good school districts.\n",
    " \n",
    "#### How it Works\n",
    " \n",
    "Zillow was found by a couple of former Microsoft executives who started travel site Expedia and machine learning has been used to build its products such as Zestimate. Based on Data Science/Machine Learning team presentation, its classification and recommendation engines were built with Amazon EMR and Apache Spark.\n",
    " \n",
    "The data set comes from user interactions, such as clicks, saves, photo views, video viewing time and home details including price, location, beds. recommendation API is defining what is like in the dislike and predict homes for users using behaviors similar to other users. The like defined here is the user actively engaged with property and dislike means they inactively engaged. Basically, their recommendation API is built upon combining collaborative filtering and content-based algorithms. When users are on the home detail page such as Trulia on Zillow, they can see similar homes power modules based on recommendation algorithms. On mobile, they provide contextual and location aware based recommendations. A user can use the home claims to update facts. To increase the coverage, predictions are performed to see who is the owner of every single home and who is going to selling the home soon. Algorithms were developed for lender selecting, evaluate the similarity of photos and videos.\n",
    " \n",
    "Personalized searching is about taking user’s explicit query and modifying that with an inferred query that computed offline using machine learning algorithms. User signals including the explicit and implicit information of users such as saving the home or contacting an agent, how many times the video has been played, how long it has been played, how many pictures have been viewed, or whether they click calculator to calculate a mortgage. Then a model based on a user-home matrix with value 0 (not relevant) and 1 (relevant) is built.\n",
    " \n",
    "For collaborative filtering, users, items, interactions between users and items, what users looked at, and what they liked will be fed in and the difference between similar users will be recommended. Zillow uses Spark built-in collaborative filtering algorithm to test the model.\n",
    " \n",
    "In some cases, there are no interaction between user and item such as a user shows up but the user profile is empty or a relevant home shows up but there is no way to tell if the home would be popular or not, collaborative filtering will not be appropriate for these cases. So Zillow also uses content-based modeling. Domain knowledge is required to the content-based algorithm. Data scientists need to understand the feature engineering, what home means, the features from it and then begin to understand the user. For example, if there is a home, the features of the home could be beds, baths, price, you have to map data scientists have to map the property features that it is for 80,000 dollars, or it has three bedrooms, or it is single-family to the machine learning features and then find out the item with the highest score to recommend.\n",
    "  \n",
    "Besides collaborative filtering content-based modeling, different layerings or submodels for different subsets are also applied. For different types of properties, e.g. Apartment vs single house, Different stage of buying(early vs late), Different region, and Different communication preference, different submodels will be used.\n",
    " \n",
    "#### User experience\n",
    " \n",
    "I think Zillow is a quick way to find housing and I like to use Zillow to get an idea of value, but I never use the value as solid value. I like the interface of Zillow because it is so easy to use. It can also filter schools by Greatschools rating so that I can find out the good school districts easily.\n",
    " \n",
    "Also, research shows that Zestimate is within 5 percent if the actual sales price roughly half the time. It simply isn’t possible for any automated valuation model to pricing a home with a level of accuracy sufficient to make a housing decision.\n",
    " \n",
    "##### Reference:\n",
    "1. https://www.youtube.com/watch?v=FXIbDxUr-h8\n",
    "2. https://www.youtube.com/watch?v=LWm7SD2QwLM\n",
    "3. How accurate is Zillow’s Zestimate? Not very, says one Washington-area agent (https://www.washingtonpost.com/news/where-we-live/wp/2014/06/10/how-accurate-is-zillows-zestimate-not-very-says-one-washington-area-agent/?utm_term=.1d76505bc09e)"
   ]
  }
 ],
 "metadata": {
  "kernelspec": {
   "display_name": "Python 3",
   "language": "python",
   "name": "python3"
  },
  "language_info": {
   "codemirror_mode": {
    "name": "ipython",
    "version": 3
   },
   "file_extension": ".py",
   "mimetype": "text/x-python",
   "name": "python",
   "nbconvert_exporter": "python",
   "pygments_lexer": "ipython3",
   "version": "3.6.1"
  }
 },
 "nbformat": 4,
 "nbformat_minor": 2
}
