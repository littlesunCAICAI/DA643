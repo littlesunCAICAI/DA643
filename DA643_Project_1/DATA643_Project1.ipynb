{
 "cells": [
  {
   "cell_type": "markdown",
   "metadata": {},
   "source": [
    "# DATA 643 Project 1 | Global Baseline Predictors and RMSE\n",
    "\n",
    "In this first assignment, we’ll attempt to predict ratings with very little information. We’ll first look at just raw averages across all (training dataset) users. We’ll then account for “bias” by normalizing across users and across items.\n",
    "\n",
    "You’ll be working with ratings in a user-item matrix, where each rating may be (1) assigned to a training dataset, (2) assigned to a test dataset, or (3) missing.\n",
    "\n",
    "Please code as much of your work as possible in R or Python. You may use standard functions (e.g. from base R and the tidyverse or from a standard scientific Python tool stack). Your project should be delivered in an R Markdown or a Jupyter notebook, then the notebook should be saved into a GitHub repository. You should include a link to your GitHub repository in your assignment submission link.\n",
    "\n",
    "Preparation. Start by watching Parts K through P from this playlist from the Coursera/Stanford Networks Illustrated course (total run time is about 22 minutes): https://www.youtube.com/playlist?list=PLuKhJYywjDe96T2L0-zXFU5Up2jqXlWI9\n",
    "\n",
    "• Briefly describe the recommender system that you’re going to build out from a business perspective, e.g. “This system recommends data science books to readers.”\n",
    "• Find a dataset, or build out your own toy dataset. As a minimum requirement for complexity, please include numeric ratings for at least five users, across at least five items, with some missing data.\n",
    "• Load your data into (for example) an R or pandas dataframe, a Python dictionary or list of lists, (or another data structure of your choosing). From there, create a user-item matrix.\n",
    "• If you choose to work with a large dataset, you’re encouraged to also create a small, relatively dense “user-item” matrix as a subset so that you can hand-verify your calculations.\n",
    "• Break your ratings into separate training and test datasets.\n",
    "• Using your training data, calculate the raw average (mean) rating for every user-item combination.\n",
    "• Calculate the RMSE for raw average for both your training data and your test data.\n",
    "• Using your training data, calculate the bias for each user and each item.\n",
    "• From the raw average, and the appropriate user and item biases, calculate the baseline predictors for every user-item combination.\n",
    "• Calculate the RMSE for the baseline predictors for both your training data and your test data.\n",
    "• Summarize your results.\n",
    "You may work in a small group (2 or 3 people) on this assignment."
   ]
  },
  {
   "cell_type": "code",
   "execution_count": 1,
   "metadata": {
    "collapsed": true
   },
   "outputs": [],
   "source": [
    "# import modules and functions\n",
    "import pandas as pd\n",
    "import numpy as np\n",
    "import csv\n",
    "import csv\n",
    "import os   \n",
    "from pandas import *\n",
    "from numpy import *\n",
    "from math import *\n",
    "import matplotlib.pyplot as plt"
   ]
  },
  {
   "cell_type": "markdown",
   "metadata": {},
   "source": [
    "This system recommends books to readers."
   ]
  },
  {
   "cell_type": "markdown",
   "metadata": {},
   "source": [
    "#### 1. Load data into pandas dataframes."
   ]
  },
  {
   "cell_type": "code",
   "execution_count": 2,
   "metadata": {
    "collapsed": true
   },
   "outputs": [],
   "source": [
    "path_1 = 'https://raw.githubusercontent.com/YunMai-SPS/DA643/master/DA643_Project_1/BX-CSV-Dump/BX-Book-Ratings.csv'\n",
    "rating = pd.read_csv(path_1) "
   ]
  },
  {
   "cell_type": "code",
   "execution_count": 3,
   "metadata": {},
   "outputs": [
    {
     "name": "stderr",
     "output_type": "stream",
     "text": [
      "D:\\Program Files\\Anaconda3\\lib\\site-packages\\IPython\\core\\interactiveshell.py:2717: DtypeWarning: Columns (9,10,11,12,13,14,15,16,17,18,19,20,21) have mixed types. Specify dtype option on import or set low_memory=False.\n",
      "  interactivity=interactivity, compiler=compiler, result=result)\n",
      "D:\\Program Files\\Anaconda3\\lib\\site-packages\\IPython\\core\\interactiveshell.py:2717: DtypeWarning: Columns (7,8) have mixed types. Specify dtype option on import or set low_memory=False.\n",
      "  interactivity=interactivity, compiler=compiler, result=result)\n"
     ]
    }
   ],
   "source": [
    "path_2 = 'https://raw.githubusercontent.com/YunMai-SPS/DA643/master/DA643_Project_1/BX-CSV-Dump/BX-Books.csv'\n",
    "book = pd.read_csv(path_2) \n",
    "\n",
    "path_3 = 'https://raw.githubusercontent.com/YunMai-SPS/DA643/master/DA643_Project_1/BX-CSV-Dump/BX-Users.csv'\n",
    "user = pd.read_csv(path_3) "
   ]
  },
  {
   "cell_type": "markdown",
   "metadata": {},
   "source": [
    "\n",
    "The data were downloaded from BOOK-CORSSING DATASET\twhich is freely available for research use. \n",
    "\n",
    "Reference:\n",
    "\n",
    "1.Cai-Nicolas Ziegler, Sean M. McNee, Joseph A. Konstan, Georg Lausen,Proceedings of the 14th International World Wide Web Conference (WWW '05), Improving Recommendation Lists Through Topic Diversification, May 10-14, 2005, Chiba, Japan. "
   ]
  },
  {
   "cell_type": "markdown",
   "metadata": {},
   "source": [
    "#### 1. Clean and prepare data.\n",
    "\n",
    "**1.1 Ratings and books data.**"
   ]
  },
  {
   "cell_type": "code",
   "execution_count": 4,
   "metadata": {},
   "outputs": [
    {
     "data": {
      "text/plain": [
       "(1048575, 1)"
      ]
     },
     "execution_count": 4,
     "metadata": {},
     "output_type": "execute_result"
    }
   ],
   "source": [
    "rating.shape"
   ]
  },
  {
   "cell_type": "code",
   "execution_count": 5,
   "metadata": {},
   "outputs": [
    {
     "data": {
      "text/plain": [
       "Index(['User-ID;\"ISBN\";\"Book-Rating\"'], dtype='object')"
      ]
     },
     "execution_count": 5,
     "metadata": {},
     "output_type": "execute_result"
    }
   ],
   "source": [
    "rating.columns"
   ]
  },
  {
   "cell_type": "code",
   "execution_count": 6,
   "metadata": {
    "collapsed": true
   },
   "outputs": [],
   "source": [
    "rating = DataFrame([item.split(';')[0:3] for item in rating['User-ID;\"ISBN\";\"Book-Rating\"']]) # split one column into several columns\n",
    "rating.columns = ['User-ID','ISBN','Book-Rating']\n",
    "\n",
    "rating['ISBN'] = rating['ISBN'].str.replace('\"', \"\")\n",
    "rating['Book-Rating'] = rating['Book-Rating'].str.replace('\"', \"\")"
   ]
  },
  {
   "cell_type": "code",
   "execution_count": 7,
   "metadata": {},
   "outputs": [
    {
     "data": {
      "text/html": [
       "<div>\n",
       "<style>\n",
       "    .dataframe thead tr:only-child th {\n",
       "        text-align: right;\n",
       "    }\n",
       "\n",
       "    .dataframe thead th {\n",
       "        text-align: left;\n",
       "    }\n",
       "\n",
       "    .dataframe tbody tr th {\n",
       "        vertical-align: top;\n",
       "    }\n",
       "</style>\n",
       "<table border=\"1\" class=\"dataframe\">\n",
       "  <thead>\n",
       "    <tr style=\"text-align: right;\">\n",
       "      <th></th>\n",
       "      <th>User-ID</th>\n",
       "      <th>ISBN</th>\n",
       "      <th>Book-Rating</th>\n",
       "    </tr>\n",
       "  </thead>\n",
       "  <tbody>\n",
       "    <tr>\n",
       "      <th>0</th>\n",
       "      <td>276725</td>\n",
       "      <td>034545104X</td>\n",
       "      <td>0</td>\n",
       "    </tr>\n",
       "    <tr>\n",
       "      <th>1</th>\n",
       "      <td>276726</td>\n",
       "      <td>0155061224</td>\n",
       "      <td>5</td>\n",
       "    </tr>\n",
       "    <tr>\n",
       "      <th>2</th>\n",
       "      <td>276727</td>\n",
       "      <td>0446520802</td>\n",
       "      <td>0</td>\n",
       "    </tr>\n",
       "    <tr>\n",
       "      <th>3</th>\n",
       "      <td>276729</td>\n",
       "      <td>052165615X</td>\n",
       "      <td>3</td>\n",
       "    </tr>\n",
       "    <tr>\n",
       "      <th>4</th>\n",
       "      <td>276729</td>\n",
       "      <td>0521795028</td>\n",
       "      <td>6</td>\n",
       "    </tr>\n",
       "  </tbody>\n",
       "</table>\n",
       "</div>"
      ],
      "text/plain": [
       "  User-ID        ISBN Book-Rating\n",
       "0  276725  034545104X           0\n",
       "1  276726  0155061224           5\n",
       "2  276727  0446520802           0\n",
       "3  276729  052165615X           3\n",
       "4  276729  0521795028           6"
      ]
     },
     "execution_count": 7,
     "metadata": {},
     "output_type": "execute_result"
    }
   ],
   "source": [
    "rating.head(5)"
   ]
  },
  {
   "cell_type": "code",
   "execution_count": 8,
   "metadata": {},
   "outputs": [
    {
     "data": {
      "text/plain": [
       "User-ID        object\n",
       "ISBN           object\n",
       "Book-Rating    object\n",
       "dtype: object"
      ]
     },
     "execution_count": 8,
     "metadata": {},
     "output_type": "execute_result"
    }
   ],
   "source": [
    "rating.dtypes "
   ]
  },
  {
   "cell_type": "code",
   "execution_count": 9,
   "metadata": {},
   "outputs": [
    {
     "data": {
      "text/plain": [
       "(1048575, 3)"
      ]
     },
     "execution_count": 9,
     "metadata": {},
     "output_type": "execute_result"
    }
   ],
   "source": [
    "rating.shape"
   ]
  },
  {
   "cell_type": "code",
   "execution_count": 10,
   "metadata": {
    "collapsed": true
   },
   "outputs": [],
   "source": [
    "rating['Book-Rating']=to_numeric(rating['Book-Rating'],errors='coerce')"
   ]
  },
  {
   "cell_type": "code",
   "execution_count": 11,
   "metadata": {},
   "outputs": [
    {
     "data": {
      "text/plain": [
       "dtype('int64')"
      ]
     },
     "execution_count": 11,
     "metadata": {},
     "output_type": "execute_result"
    }
   ],
   "source": [
    "rating['Book-Rating'].dtype"
   ]
  },
  {
   "cell_type": "code",
   "execution_count": 12,
   "metadata": {
    "collapsed": true
   },
   "outputs": [],
   "source": [
    "book_im=book.iloc[:,0]\n",
    "book_im = book_im.to_frame().reset_index()\n",
    "book_im.columns = ['index','ISBN;\"Book-Title\";\"Book-Author\";\"Year-Of-Publication\";\"Publisher\";\"Image-URL-S\";\"Image-URL-M\";\"Image-URL-L\"']\n",
    "book =  DataFrame([item.split(';')[0:8] for item in book_im['ISBN;\"Book-Title\";\"Book-Author\";\"Year-Of-Publication\";\"Publisher\";\"Image-URL-S\";\"Image-URL-M\";\"Image-URL-L\"']])\n",
    "book.columns = ['ISBN','Book-Title','Book-Author','Year-Of-Publication','Publisher','Image-URL-S','Image-URL-M','Image-URL-L']"
   ]
  },
  {
   "cell_type": "code",
   "execution_count": 13,
   "metadata": {},
   "outputs": [
    {
     "data": {
      "text/html": [
       "<div>\n",
       "<style>\n",
       "    .dataframe thead tr:only-child th {\n",
       "        text-align: right;\n",
       "    }\n",
       "\n",
       "    .dataframe thead th {\n",
       "        text-align: left;\n",
       "    }\n",
       "\n",
       "    .dataframe tbody tr th {\n",
       "        vertical-align: top;\n",
       "    }\n",
       "</style>\n",
       "<table border=\"1\" class=\"dataframe\">\n",
       "  <thead>\n",
       "    <tr style=\"text-align: right;\">\n",
       "      <th></th>\n",
       "      <th>ISBN</th>\n",
       "      <th>Book-Title</th>\n",
       "      <th>Book-Author</th>\n",
       "      <th>Year-Of-Publication</th>\n",
       "      <th>Publisher</th>\n",
       "      <th>Image-URL-S</th>\n",
       "      <th>Image-URL-M</th>\n",
       "      <th>Image-URL-L</th>\n",
       "    </tr>\n",
       "  </thead>\n",
       "  <tbody>\n",
       "    <tr>\n",
       "      <th>0</th>\n",
       "      <td>0195153448</td>\n",
       "      <td>\"Classical Mythology\"</td>\n",
       "      <td>\"Mark P. O. Morford\"</td>\n",
       "      <td>\"2002\"</td>\n",
       "      <td>\"Oxford University Press\"</td>\n",
       "      <td>\"http://images.amazon.com/images/P/0195153448....</td>\n",
       "      <td>\"http://images.amazon.com/images/P/0195153448....</td>\n",
       "      <td>\"http://images.amazon.com/images/P/0195153448....</td>\n",
       "    </tr>\n",
       "    <tr>\n",
       "      <th>1</th>\n",
       "      <td>0002005018</td>\n",
       "      <td>\"Clara Callan\"</td>\n",
       "      <td>\"Richard Bruce Wright\"</td>\n",
       "      <td>\"2001\"</td>\n",
       "      <td>\"HarperFlamingo Canada\"</td>\n",
       "      <td>\"http://images.amazon.com/images/P/0002005018....</td>\n",
       "      <td>\"http://images.amazon.com/images/P/0002005018....</td>\n",
       "      <td>\"http://images.amazon.com/images/P/0002005018....</td>\n",
       "    </tr>\n",
       "    <tr>\n",
       "      <th>2</th>\n",
       "      <td>0060973129</td>\n",
       "      <td>\"Decision in Normandy\"</td>\n",
       "      <td>\"Carlo D'Este\"</td>\n",
       "      <td>\"1991\"</td>\n",
       "      <td>\"HarperPerennial\"</td>\n",
       "      <td>\"http://images.amazon.com/images/P/0060973129....</td>\n",
       "      <td>\"http://images.amazon.com/images/P/0060973129....</td>\n",
       "      <td>\"http://images.amazon.com/images/P/0060973129....</td>\n",
       "    </tr>\n",
       "    <tr>\n",
       "      <th>3</th>\n",
       "      <td>0374157065</td>\n",
       "      <td>\"Flu: The Story of the Great Influenza Pandemi...</td>\n",
       "      <td>\"Gina Bari Kolata\"</td>\n",
       "      <td>\"1999\"</td>\n",
       "      <td>\"Farrar Straus Giroux\"</td>\n",
       "      <td>\"http://images.amazon.com/images/P/0374157065....</td>\n",
       "      <td>\"http://images.amazon.com/images/P/0374157065....</td>\n",
       "      <td>\"http://images.amazon.com/images/P/0374157065....</td>\n",
       "    </tr>\n",
       "    <tr>\n",
       "      <th>4</th>\n",
       "      <td>0393045218</td>\n",
       "      <td>\"The Mummies of Urumchi\"</td>\n",
       "      <td>\"E. J. W. Barber\"</td>\n",
       "      <td>\"1999\"</td>\n",
       "      <td>\"W. W. Norton &amp;amp</td>\n",
       "      <td>Company\"</td>\n",
       "      <td>\"http://images.amazon.com/images/P/0393045218....</td>\n",
       "      <td>\"http://images.amazon.com/images/P/0393045218....</td>\n",
       "    </tr>\n",
       "  </tbody>\n",
       "</table>\n",
       "</div>"
      ],
      "text/plain": [
       "         ISBN                                         Book-Title  \\\n",
       "0  0195153448                              \"Classical Mythology\"   \n",
       "1  0002005018                                     \"Clara Callan\"   \n",
       "2  0060973129                             \"Decision in Normandy\"   \n",
       "3  0374157065  \"Flu: The Story of the Great Influenza Pandemi...   \n",
       "4  0393045218                           \"The Mummies of Urumchi\"   \n",
       "\n",
       "              Book-Author Year-Of-Publication                  Publisher  \\\n",
       "0    \"Mark P. O. Morford\"              \"2002\"  \"Oxford University Press\"   \n",
       "1  \"Richard Bruce Wright\"              \"2001\"    \"HarperFlamingo Canada\"   \n",
       "2          \"Carlo D'Este\"              \"1991\"          \"HarperPerennial\"   \n",
       "3      \"Gina Bari Kolata\"              \"1999\"     \"Farrar Straus Giroux\"   \n",
       "4       \"E. J. W. Barber\"              \"1999\"         \"W. W. Norton &amp   \n",
       "\n",
       "                                         Image-URL-S  \\\n",
       "0  \"http://images.amazon.com/images/P/0195153448....   \n",
       "1  \"http://images.amazon.com/images/P/0002005018....   \n",
       "2  \"http://images.amazon.com/images/P/0060973129....   \n",
       "3  \"http://images.amazon.com/images/P/0374157065....   \n",
       "4                                           Company\"   \n",
       "\n",
       "                                         Image-URL-M  \\\n",
       "0  \"http://images.amazon.com/images/P/0195153448....   \n",
       "1  \"http://images.amazon.com/images/P/0002005018....   \n",
       "2  \"http://images.amazon.com/images/P/0060973129....   \n",
       "3  \"http://images.amazon.com/images/P/0374157065....   \n",
       "4  \"http://images.amazon.com/images/P/0393045218....   \n",
       "\n",
       "                                         Image-URL-L  \n",
       "0  \"http://images.amazon.com/images/P/0195153448....  \n",
       "1  \"http://images.amazon.com/images/P/0002005018....  \n",
       "2  \"http://images.amazon.com/images/P/0060973129....  \n",
       "3  \"http://images.amazon.com/images/P/0374157065....  \n",
       "4  \"http://images.amazon.com/images/P/0393045218....  "
      ]
     },
     "execution_count": 13,
     "metadata": {},
     "output_type": "execute_result"
    }
   ],
   "source": [
    "book.head(5)"
   ]
  },
  {
   "cell_type": "code",
   "execution_count": 14,
   "metadata": {},
   "outputs": [
    {
     "data": {
      "text/html": [
       "<div>\n",
       "<style>\n",
       "    .dataframe thead tr:only-child th {\n",
       "        text-align: right;\n",
       "    }\n",
       "\n",
       "    .dataframe thead th {\n",
       "        text-align: left;\n",
       "    }\n",
       "\n",
       "    .dataframe tbody tr th {\n",
       "        vertical-align: top;\n",
       "    }\n",
       "</style>\n",
       "<table border=\"1\" class=\"dataframe\">\n",
       "  <thead>\n",
       "    <tr style=\"text-align: right;\">\n",
       "      <th></th>\n",
       "      <th>User-ID</th>\n",
       "      <th>ISBN</th>\n",
       "      <th>Book-Rating</th>\n",
       "      <th>Book-Title</th>\n",
       "    </tr>\n",
       "  </thead>\n",
       "  <tbody>\n",
       "    <tr>\n",
       "      <th>0</th>\n",
       "      <td>276725</td>\n",
       "      <td>034545104X</td>\n",
       "      <td>0</td>\n",
       "      <td>Flesh Tones: A Novel</td>\n",
       "    </tr>\n",
       "    <tr>\n",
       "      <th>1</th>\n",
       "      <td>276726</td>\n",
       "      <td>0155061224</td>\n",
       "      <td>5</td>\n",
       "      <td>Rites of Passage</td>\n",
       "    </tr>\n",
       "    <tr>\n",
       "      <th>2</th>\n",
       "      <td>276727</td>\n",
       "      <td>0446520802</td>\n",
       "      <td>0</td>\n",
       "      <td>The Notebook</td>\n",
       "    </tr>\n",
       "    <tr>\n",
       "      <th>3</th>\n",
       "      <td>276729</td>\n",
       "      <td>052165615X</td>\n",
       "      <td>3</td>\n",
       "      <td>Help!: Level 1</td>\n",
       "    </tr>\n",
       "    <tr>\n",
       "      <th>4</th>\n",
       "      <td>276729</td>\n",
       "      <td>0521795028</td>\n",
       "      <td>6</td>\n",
       "      <td>The Amsterdam Connection : Level 4 (Cambridge ...</td>\n",
       "    </tr>\n",
       "    <tr>\n",
       "      <th>5</th>\n",
       "      <td>276733</td>\n",
       "      <td>2080674722</td>\n",
       "      <td>0</td>\n",
       "      <td>Les Particules Elementaires</td>\n",
       "    </tr>\n",
       "  </tbody>\n",
       "</table>\n",
       "</div>"
      ],
      "text/plain": [
       "  User-ID        ISBN  Book-Rating  \\\n",
       "0  276725  034545104X            0   \n",
       "1  276726  0155061224            5   \n",
       "2  276727  0446520802            0   \n",
       "3  276729  052165615X            3   \n",
       "4  276729  0521795028            6   \n",
       "5  276733  2080674722            0   \n",
       "\n",
       "                                          Book-Title  \n",
       "0                               Flesh Tones: A Novel  \n",
       "1                                   Rites of Passage  \n",
       "2                                       The Notebook  \n",
       "3                                     Help!: Level 1  \n",
       "4  The Amsterdam Connection : Level 4 (Cambridge ...  \n",
       "5                        Les Particules Elementaires  "
      ]
     },
     "execution_count": 14,
     "metadata": {},
     "output_type": "execute_result"
    }
   ],
   "source": [
    "rating['Book-Title'] = rating['ISBN']\n",
    "rating['Book-Title'] = rating['Book-Title'].map(book.set_index('ISBN')['Book-Title'])\n",
    "rating['Book-Title'] = rating['Book-Title'].str.replace('\"', \"\")\n",
    "rating.head(6)"
   ]
  },
  {
   "cell_type": "code",
   "execution_count": 15,
   "metadata": {
    "collapsed": true
   },
   "outputs": [],
   "source": [
    "#drop rows whose Book-Title is missing\n",
    "rating = rating.dropna(subset=['Book-Title']) "
   ]
  },
  {
   "cell_type": "code",
   "execution_count": 16,
   "metadata": {
    "collapsed": true
   },
   "outputs": [],
   "source": [
    "#drop rows whose Book-Rating is 0\n",
    "rating.columns = ['User-ID','ISBN','Rating','Book-Title']\n",
    "rating = rating[rating.Rating != 0]"
   ]
  },
  {
   "cell_type": "markdown",
   "metadata": {},
   "source": [
    "**1.2 Users data**"
   ]
  },
  {
   "cell_type": "code",
   "execution_count": 17,
   "metadata": {},
   "outputs": [
    {
     "data": {
      "text/html": [
       "<div>\n",
       "<style>\n",
       "    .dataframe thead tr:only-child th {\n",
       "        text-align: right;\n",
       "    }\n",
       "\n",
       "    .dataframe thead th {\n",
       "        text-align: left;\n",
       "    }\n",
       "\n",
       "    .dataframe tbody tr th {\n",
       "        vertical-align: top;\n",
       "    }\n",
       "</style>\n",
       "<table border=\"1\" class=\"dataframe\">\n",
       "  <thead>\n",
       "    <tr style=\"text-align: right;\">\n",
       "      <th></th>\n",
       "      <th>User-ID;\"Location\";\"Age\"</th>\n",
       "      <th>Unnamed: 1</th>\n",
       "      <th>Unnamed: 2</th>\n",
       "      <th>Unnamed: 3</th>\n",
       "      <th>Unnamed: 4</th>\n",
       "      <th>Unnamed: 5</th>\n",
       "      <th>Unnamed: 6</th>\n",
       "      <th>Unnamed: 7</th>\n",
       "      <th>Unnamed: 8</th>\n",
       "    </tr>\n",
       "  </thead>\n",
       "  <tbody>\n",
       "    <tr>\n",
       "      <th>0</th>\n",
       "      <td>1;\"nyc</td>\n",
       "      <td>new york</td>\n",
       "      <td>usa\";NULL</td>\n",
       "      <td>NaN</td>\n",
       "      <td>NaN</td>\n",
       "      <td>NaN</td>\n",
       "      <td>NaN</td>\n",
       "      <td>NaN</td>\n",
       "      <td>NaN</td>\n",
       "    </tr>\n",
       "    <tr>\n",
       "      <th>1</th>\n",
       "      <td>2;\"stockton</td>\n",
       "      <td>california</td>\n",
       "      <td>usa\";\"18\"</td>\n",
       "      <td>NaN</td>\n",
       "      <td>NaN</td>\n",
       "      <td>NaN</td>\n",
       "      <td>NaN</td>\n",
       "      <td>NaN</td>\n",
       "      <td>NaN</td>\n",
       "    </tr>\n",
       "  </tbody>\n",
       "</table>\n",
       "</div>"
      ],
      "text/plain": [
       "  User-ID;\"Location\";\"Age\"   Unnamed: 1  Unnamed: 2 Unnamed: 3 Unnamed: 4  \\\n",
       "0                   1;\"nyc     new york   usa\";NULL        NaN        NaN   \n",
       "1              2;\"stockton   california   usa\";\"18\"        NaN        NaN   \n",
       "\n",
       "  Unnamed: 5 Unnamed: 6 Unnamed: 7 Unnamed: 8  \n",
       "0        NaN        NaN        NaN        NaN  \n",
       "1        NaN        NaN        NaN        NaN  "
      ]
     },
     "execution_count": 17,
     "metadata": {},
     "output_type": "execute_result"
    }
   ],
   "source": [
    "user.head(2)"
   ]
  },
  {
   "cell_type": "code",
   "execution_count": 18,
   "metadata": {},
   "outputs": [
    {
     "data": {
      "text/plain": [
       "Index(['User-ID;\"Location\";\"Age\"', 'Unnamed: 1', 'Unnamed: 2', 'Unnamed: 3',\n",
       "       'Unnamed: 4', 'Unnamed: 5', 'Unnamed: 6', 'Unnamed: 7', 'Unnamed: 8'],\n",
       "      dtype='object')"
      ]
     },
     "execution_count": 18,
     "metadata": {},
     "output_type": "execute_result"
    }
   ],
   "source": [
    "user.columns"
   ]
  },
  {
   "cell_type": "code",
   "execution_count": 19,
   "metadata": {
    "scrolled": true
   },
   "outputs": [
    {
     "name": "stderr",
     "output_type": "stream",
     "text": [
      "D:\\Program Files\\Anaconda3\\lib\\site-packages\\ipykernel_launcher.py:4: SettingWithCopyWarning: \n",
      "A value is trying to be set on a copy of a slice from a DataFrame.\n",
      "Try using .loc[row_indexer,col_indexer] = value instead\n",
      "\n",
      "See the caveats in the documentation: http://pandas.pydata.org/pandas-docs/stable/indexing.html#indexing-view-versus-copy\n",
      "  after removing the cwd from sys.path.\n",
      "D:\\Program Files\\Anaconda3\\lib\\site-packages\\ipykernel_launcher.py:5: SettingWithCopyWarning: \n",
      "A value is trying to be set on a copy of a slice from a DataFrame.\n",
      "Try using .loc[row_indexer,col_indexer] = value instead\n",
      "\n",
      "See the caveats in the documentation: http://pandas.pydata.org/pandas-docs/stable/indexing.html#indexing-view-versus-copy\n",
      "  \"\"\"\n",
      "D:\\Program Files\\Anaconda3\\lib\\site-packages\\ipykernel_launcher.py:6: SettingWithCopyWarning: \n",
      "A value is trying to be set on a copy of a slice from a DataFrame.\n",
      "Try using .loc[row_indexer,col_indexer] = value instead\n",
      "\n",
      "See the caveats in the documentation: http://pandas.pydata.org/pandas-docs/stable/indexing.html#indexing-view-versus-copy\n",
      "  \n",
      "D:\\Program Files\\Anaconda3\\lib\\site-packages\\ipykernel_launcher.py:7: SettingWithCopyWarning: \n",
      "A value is trying to be set on a copy of a slice from a DataFrame.\n",
      "Try using .loc[row_indexer,col_indexer] = value instead\n",
      "\n",
      "See the caveats in the documentation: http://pandas.pydata.org/pandas-docs/stable/indexing.html#indexing-view-versus-copy\n",
      "  import sys\n",
      "D:\\Program Files\\Anaconda3\\lib\\site-packages\\ipykernel_launcher.py:8: SettingWithCopyWarning: \n",
      "A value is trying to be set on a copy of a slice from a DataFrame.\n",
      "Try using .loc[row_indexer,col_indexer] = value instead\n",
      "\n",
      "See the caveats in the documentation: http://pandas.pydata.org/pandas-docs/stable/indexing.html#indexing-view-versus-copy\n",
      "  \n",
      "D:\\Program Files\\Anaconda3\\lib\\site-packages\\ipykernel_launcher.py:9: SettingWithCopyWarning: \n",
      "A value is trying to be set on a copy of a slice from a DataFrame.\n",
      "Try using .loc[row_indexer,col_indexer] = value instead\n",
      "\n",
      "See the caveats in the documentation: http://pandas.pydata.org/pandas-docs/stable/indexing.html#indexing-view-versus-copy\n",
      "  if __name__ == '__main__':\n",
      "D:\\Program Files\\Anaconda3\\lib\\site-packages\\ipykernel_launcher.py:10: SettingWithCopyWarning: \n",
      "A value is trying to be set on a copy of a slice from a DataFrame.\n",
      "Try using .loc[row_indexer,col_indexer] = value instead\n",
      "\n",
      "See the caveats in the documentation: http://pandas.pydata.org/pandas-docs/stable/indexing.html#indexing-view-versus-copy\n",
      "  # Remove the CWD from sys.path while we load stuff.\n",
      "D:\\Program Files\\Anaconda3\\lib\\site-packages\\ipykernel_launcher.py:11: SettingWithCopyWarning: \n",
      "A value is trying to be set on a copy of a slice from a DataFrame.\n",
      "Try using .loc[row_indexer,col_indexer] = value instead\n",
      "\n",
      "See the caveats in the documentation: http://pandas.pydata.org/pandas-docs/stable/indexing.html#indexing-view-versus-copy\n",
      "  # This is added back by InteractiveShellApp.init_path()\n",
      "D:\\Program Files\\Anaconda3\\lib\\site-packages\\ipykernel_launcher.py:13: SettingWithCopyWarning: \n",
      "A value is trying to be set on a copy of a slice from a DataFrame.\n",
      "Try using .loc[row_indexer,col_indexer] = value instead\n",
      "\n",
      "See the caveats in the documentation: http://pandas.pydata.org/pandas-docs/stable/indexing.html#indexing-view-versus-copy\n",
      "  del sys.path[0]\n"
     ]
    },
    {
     "data": {
      "text/html": [
       "<div>\n",
       "<style>\n",
       "    .dataframe thead tr:only-child th {\n",
       "        text-align: right;\n",
       "    }\n",
       "\n",
       "    .dataframe thead th {\n",
       "        text-align: left;\n",
       "    }\n",
       "\n",
       "    .dataframe tbody tr th {\n",
       "        vertical-align: top;\n",
       "    }\n",
       "</style>\n",
       "<table border=\"1\" class=\"dataframe\">\n",
       "  <thead>\n",
       "    <tr style=\"text-align: right;\">\n",
       "      <th></th>\n",
       "      <th>Location</th>\n",
       "      <th>State</th>\n",
       "      <th>Country</th>\n",
       "      <th>Age</th>\n",
       "      <th>User-ID</th>\n",
       "    </tr>\n",
       "  </thead>\n",
       "  <tbody>\n",
       "    <tr>\n",
       "      <th>0</th>\n",
       "      <td>nyc</td>\n",
       "      <td>new york</td>\n",
       "      <td>usa</td>\n",
       "      <td></td>\n",
       "      <td>0</td>\n",
       "    </tr>\n",
       "    <tr>\n",
       "      <th>1</th>\n",
       "      <td>stockton</td>\n",
       "      <td>california</td>\n",
       "      <td>usa</td>\n",
       "      <td>18</td>\n",
       "      <td>1</td>\n",
       "    </tr>\n",
       "    <tr>\n",
       "      <th>2</th>\n",
       "      <td>moscow</td>\n",
       "      <td>yukon territory</td>\n",
       "      <td>russia</td>\n",
       "      <td></td>\n",
       "      <td>2</td>\n",
       "    </tr>\n",
       "    <tr>\n",
       "      <th>3</th>\n",
       "      <td>porto</td>\n",
       "      <td>v.n.gaia</td>\n",
       "      <td>portugal</td>\n",
       "      <td>17</td>\n",
       "      <td>3</td>\n",
       "    </tr>\n",
       "    <tr>\n",
       "      <th>4</th>\n",
       "      <td>farnborough</td>\n",
       "      <td>hants</td>\n",
       "      <td>united kingdom</td>\n",
       "      <td></td>\n",
       "      <td>4</td>\n",
       "    </tr>\n",
       "    <tr>\n",
       "      <th>5</th>\n",
       "      <td>santa monica</td>\n",
       "      <td>california</td>\n",
       "      <td>usa</td>\n",
       "      <td>61</td>\n",
       "      <td>5</td>\n",
       "    </tr>\n",
       "    <tr>\n",
       "      <th>6</th>\n",
       "      <td>washington</td>\n",
       "      <td>dc</td>\n",
       "      <td>usa</td>\n",
       "      <td></td>\n",
       "      <td>6</td>\n",
       "    </tr>\n",
       "    <tr>\n",
       "      <th>7</th>\n",
       "      <td>timmins</td>\n",
       "      <td>ontario</td>\n",
       "      <td>canada</td>\n",
       "      <td></td>\n",
       "      <td>7</td>\n",
       "    </tr>\n",
       "    <tr>\n",
       "      <th>8</th>\n",
       "      <td>germantown</td>\n",
       "      <td>tennessee</td>\n",
       "      <td>usa</td>\n",
       "      <td></td>\n",
       "      <td>8</td>\n",
       "    </tr>\n",
       "    <tr>\n",
       "      <th>9</th>\n",
       "      <td>albacete</td>\n",
       "      <td>wisconsin</td>\n",
       "      <td>spain</td>\n",
       "      <td>26</td>\n",
       "      <td>9</td>\n",
       "    </tr>\n",
       "  </tbody>\n",
       "</table>\n",
       "</div>"
      ],
      "text/plain": [
       "       Location             State          Country  Age  User-ID\n",
       "0           nyc          new york              usa             0\n",
       "1      stockton        california              usa   18        1\n",
       "2        moscow   yukon territory           russia             2\n",
       "3         porto          v.n.gaia         portugal   17        3\n",
       "4   farnborough             hants   united kingdom             4\n",
       "5  santa monica        california              usa   61        5\n",
       "6    washington                dc              usa             6\n",
       "7       timmins           ontario           canada             7\n",
       "8    germantown         tennessee              usa             8\n",
       "9      albacete         wisconsin            spain   26        9"
      ]
     },
     "execution_count": 19,
     "metadata": {},
     "output_type": "execute_result"
    }
   ],
   "source": [
    "user_im=user.iloc[:,0:3]\n",
    "user_im.columns = ['User-ID;\"Location\";\"Age\"','State','Age']\n",
    "from string import *\n",
    "user_im['User-ID;\"Location\";\"Age\"']=user_im['User-ID;\"Location\";\"Age\"'].str.replace('\\d+\\;\\\"', '')\n",
    "user_im['Age']=user_im['Age'].str.replace('\\\";', '')\n",
    "user_im['Age']=user_im['Age'].str.replace('\\\"', '')\n",
    "user_im['Age2'] = user_im['Age']\n",
    "user_im['Age']=user_im['Age'].str.replace('\\d+', '')\n",
    "user_im['Age']=user_im['Age'].str.replace('NULL', '')\n",
    "user_im['Age2'] = user_im['Age2'].str.replace('[a-zA-Z]+', '')\n",
    "user_im['Age2']=user_im['Age2'].str.replace('\\\";|\\\";\"|\"', '')\n",
    "user_im.columns = ['Location','State','Country','Age']\n",
    "user_im['User-ID'] = user_im.index\n",
    "user= user_im\n",
    "user.head(10)"
   ]
  },
  {
   "cell_type": "markdown",
   "metadata": {},
   "source": [
    "**1.3 Remove sparse data to increase density in the Rating table**"
   ]
  },
  {
   "cell_type": "code",
   "execution_count": 20,
   "metadata": {},
   "outputs": [
    {
     "data": {
      "text/plain": [
       "(351646, 4)"
      ]
     },
     "execution_count": 20,
     "metadata": {},
     "output_type": "execute_result"
    }
   ],
   "source": [
    "rating.shape"
   ]
  },
  {
   "cell_type": "code",
   "execution_count": 21,
   "metadata": {},
   "outputs": [
    {
     "data": {
      "text/html": [
       "<div>\n",
       "<style>\n",
       "    .dataframe thead tr:only-child th {\n",
       "        text-align: right;\n",
       "    }\n",
       "\n",
       "    .dataframe thead th {\n",
       "        text-align: left;\n",
       "    }\n",
       "\n",
       "    .dataframe tbody tr th {\n",
       "        vertical-align: top;\n",
       "    }\n",
       "</style>\n",
       "<table border=\"1\" class=\"dataframe\">\n",
       "  <thead>\n",
       "    <tr style=\"text-align: right;\">\n",
       "      <th></th>\n",
       "      <th>User-ID</th>\n",
       "      <th>ISBN</th>\n",
       "      <th>Rating</th>\n",
       "      <th>Book-Title</th>\n",
       "    </tr>\n",
       "  </thead>\n",
       "  <tbody>\n",
       "    <tr>\n",
       "      <th>1</th>\n",
       "      <td>276726</td>\n",
       "      <td>0155061224</td>\n",
       "      <td>5</td>\n",
       "      <td>Rites of Passage</td>\n",
       "    </tr>\n",
       "    <tr>\n",
       "      <th>3</th>\n",
       "      <td>276729</td>\n",
       "      <td>052165615X</td>\n",
       "      <td>3</td>\n",
       "      <td>Help!: Level 1</td>\n",
       "    </tr>\n",
       "  </tbody>\n",
       "</table>\n",
       "</div>"
      ],
      "text/plain": [
       "  User-ID        ISBN  Rating        Book-Title\n",
       "1  276726  0155061224       5  Rites of Passage\n",
       "3  276729  052165615X       3    Help!: Level 1"
      ]
     },
     "execution_count": 21,
     "metadata": {},
     "output_type": "execute_result"
    }
   ],
   "source": [
    "# Keep a copy of the original dataframe\n",
    "ratingC =rating.copy()\n",
    "ratingC.head(2)"
   ]
  },
  {
   "cell_type": "code",
   "execution_count": 22,
   "metadata": {
    "collapsed": true
   },
   "outputs": [],
   "source": [
    "rating = ratingC"
   ]
  },
  {
   "cell_type": "code",
   "execution_count": 23,
   "metadata": {},
   "outputs": [
    {
     "data": {
      "text/plain": [
       "(19590, 4)"
      ]
     },
     "execution_count": 23,
     "metadata": {},
     "output_type": "execute_result"
    }
   ],
   "source": [
    "# filter users rated more than 1000 books\n",
    "rating_1 = rating.groupby('User-ID').filter(lambda x: len(x) > 1000)\n",
    "rating_1.shape"
   ]
  },
  {
   "cell_type": "code",
   "execution_count": 24,
   "metadata": {},
   "outputs": [
    {
     "data": {
      "text/plain": [
       "array(['11676', '23902', '76499', '98391', '153662', '189835', '235105'], dtype=object)"
      ]
     },
     "execution_count": 24,
     "metadata": {},
     "output_type": "execute_result"
    }
   ],
   "source": [
    "filter_book1 = rating_1['User-ID'].unique()\n",
    "filter_book1"
   ]
  },
  {
   "cell_type": "code",
   "execution_count": 25,
   "metadata": {},
   "outputs": [
    {
     "data": {
      "text/plain": [
       "(5820, 4)"
      ]
     },
     "execution_count": 25,
     "metadata": {},
     "output_type": "execute_result"
    }
   ],
   "source": [
    "# filter books rated by more than 200 users\n",
    "rating_2 = rating.groupby('ISBN').filter(lambda x: len(x) > 200)\n",
    "rating_2.shape"
   ]
  },
  {
   "cell_type": "code",
   "execution_count": 26,
   "metadata": {},
   "outputs": [
    {
     "data": {
      "text/plain": [
       "array(['0385504209', '0971880107', '0671021001', '044023722X',\n",
       "       '0452282152', '0312195516', '0316666343', '0671027360',\n",
       "       '0316601950', '0316769487', '0142001740', '0446672211',\n",
       "       '067976402X', '0375727345', '0345337662', '059035342X',\n",
       "       '0060928336', '0060930535', '0743418174', '0786868716'], dtype=object)"
      ]
     },
     "execution_count": 26,
     "metadata": {},
     "output_type": "execute_result"
    }
   ],
   "source": [
    "filter_book2 = rating_2['ISBN'].unique()\n",
    "filter_book2"
   ]
  },
  {
   "cell_type": "code",
   "execution_count": 27,
   "metadata": {},
   "outputs": [
    {
     "data": {
      "text/plain": [
       "Index(['User-ID_x', 'ISBN', 'Rating_x', 'Book-Title_x', 'User-ID_y',\n",
       "       'Rating_y', 'Book-Title_y'],\n",
       "      dtype='object')"
      ]
     },
     "execution_count": 27,
     "metadata": {},
     "output_type": "execute_result"
    }
   ],
   "source": [
    "rating_3 = pd.merge(rating_1,rating_2, on='ISBN', how='inner')\n",
    "rating_3.columns"
   ]
  },
  {
   "cell_type": "code",
   "execution_count": 28,
   "metadata": {},
   "outputs": [
    {
     "data": {
      "text/plain": [
       "(15602, 4)"
      ]
     },
     "execution_count": 28,
     "metadata": {},
     "output_type": "execute_result"
    }
   ],
   "source": [
    "rating_4 =  rating_3[['User-ID_x', 'ISBN', 'Rating_x', 'Book-Title_x']]\n",
    "rating_4.columns = ['User-ID', 'ISBN', 'Rating', 'Title']\n",
    "rating_5 =  rating_3[['User-ID_y','ISBN','Rating_y', 'Book-Title_y']]\n",
    "rating_5.columns = ['User-ID', 'ISBN', 'Rating', 'Title']\n",
    "rating_6 = pd.concat([rating_4, rating_5]) \n",
    "rating_6.shape"
   ]
  },
  {
   "cell_type": "code",
   "execution_count": 29,
   "metadata": {},
   "outputs": [
    {
     "data": {
      "text/plain": [
       "array(['0312195516', '0316666343', '0345337662', '0375727345',\n",
       "       '0385504209', '044023722X', '0446672211', '059035342X',\n",
       "       '067976402X', '0743418174', '0786868716', '0971880107', '0671021001'], dtype=object)"
      ]
     },
     "execution_count": 29,
     "metadata": {},
     "output_type": "execute_result"
    }
   ],
   "source": [
    "filter_book = rating_6.ISBN.unique()\n",
    "filter_book"
   ]
  },
  {
   "cell_type": "code",
   "execution_count": 30,
   "metadata": {},
   "outputs": [
    {
     "data": {
      "text/plain": [
       "(6486, 4)"
      ]
     },
     "execution_count": 30,
     "metadata": {},
     "output_type": "execute_result"
    }
   ],
   "source": [
    "myfilter_book = filter_book[0:4]\n",
    "rating_7 = rating_6[rating_6.ISBN.isin(myfilter_book)]\n",
    "rating_7.shape"
   ]
  },
  {
   "cell_type": "code",
   "execution_count": 31,
   "metadata": {
    "collapsed": true
   },
   "outputs": [],
   "source": [
    "rating=rating_7"
   ]
  },
  {
   "cell_type": "code",
   "execution_count": 32,
   "metadata": {},
   "outputs": [
    {
     "name": "stdout",
     "output_type": "stream",
     "text": [
      "sparsity of Book-Rating dataset: 75%\n"
     ]
    }
   ],
   "source": [
    "# sparsity = 1 - (ratings/users*items)\n",
    "non_zero= (rating['Rating']!=0).sum() \n",
    "sparsity = 1- non_zero/(rating.shape[0] * rating.shape[1])\n",
    "a = \"{0:.0f}%\".format(sparsity*100)\n",
    "print('sparsity of Book-Rating dataset:',a)"
   ]
  },
  {
   "cell_type": "markdown",
   "metadata": {},
   "source": [
    "#### 2. Create a user-item matrix\n",
    "\n",
    "**2.1 Break book-ratings into separate training and test datasets.**"
   ]
  },
  {
   "cell_type": "code",
   "execution_count": 33,
   "metadata": {},
   "outputs": [
    {
     "name": "stderr",
     "output_type": "stream",
     "text": [
      "D:\\Program Files\\Anaconda3\\lib\\site-packages\\sklearn\\cross_validation.py:44: DeprecationWarning: This module was deprecated in version 0.18 in favor of the model_selection module into which all the refactored classes and functions are moved. Also note that the interface of the new CV iterators are different from that of this module. This module will be removed in 0.20.\n",
      "  \"This module will be removed in 0.20.\", DeprecationWarning)\n"
     ]
    }
   ],
   "source": [
    "# use Cross_validation.train_test_split in scikit-learn library to shuffle and split the data into two datasets:80% for training and 20% for testing.\n",
    "from sklearn import cross_validation as cv\n",
    "train_data, test_data = cv.train_test_split(rating, test_size=0.2)"
   ]
  },
  {
   "cell_type": "code",
   "execution_count": 34,
   "metadata": {},
   "outputs": [
    {
     "data": {
      "text/html": [
       "<div>\n",
       "<style>\n",
       "    .dataframe thead tr:only-child th {\n",
       "        text-align: right;\n",
       "    }\n",
       "\n",
       "    .dataframe thead th {\n",
       "        text-align: left;\n",
       "    }\n",
       "\n",
       "    .dataframe tbody tr th {\n",
       "        vertical-align: top;\n",
       "    }\n",
       "</style>\n",
       "<table border=\"1\" class=\"dataframe\">\n",
       "  <thead>\n",
       "    <tr style=\"text-align: right;\">\n",
       "      <th></th>\n",
       "      <th>User-ID</th>\n",
       "      <th>ISBN</th>\n",
       "      <th>Rating</th>\n",
       "      <th>Title</th>\n",
       "    </tr>\n",
       "  </thead>\n",
       "  <tbody>\n",
       "    <tr>\n",
       "      <th>2250</th>\n",
       "      <td>113089</td>\n",
       "      <td>0316666343</td>\n",
       "      <td>9</td>\n",
       "      <td>The Lovely Bones: A Novel</td>\n",
       "    </tr>\n",
       "    <tr>\n",
       "      <th>1751</th>\n",
       "      <td>161114</td>\n",
       "      <td>0316666343</td>\n",
       "      <td>7</td>\n",
       "      <td>The Lovely Bones: A Novel</td>\n",
       "    </tr>\n",
       "    <tr>\n",
       "      <th>1630</th>\n",
       "      <td>98391</td>\n",
       "      <td>0316666343</td>\n",
       "      <td>9</td>\n",
       "      <td>The Lovely Bones: A Novel</td>\n",
       "    </tr>\n",
       "    <tr>\n",
       "      <th>2510</th>\n",
       "      <td>235105</td>\n",
       "      <td>0316666343</td>\n",
       "      <td>8</td>\n",
       "      <td>The Lovely Bones: A Novel</td>\n",
       "    </tr>\n",
       "    <tr>\n",
       "      <th>1059</th>\n",
       "      <td>11676</td>\n",
       "      <td>0316666343</td>\n",
       "      <td>5</td>\n",
       "      <td>The Lovely Bones: A Novel</td>\n",
       "    </tr>\n",
       "  </tbody>\n",
       "</table>\n",
       "</div>"
      ],
      "text/plain": [
       "     User-ID        ISBN  Rating                      Title\n",
       "2250  113089  0316666343       9  The Lovely Bones: A Novel\n",
       "1751  161114  0316666343       7  The Lovely Bones: A Novel\n",
       "1630   98391  0316666343       9  The Lovely Bones: A Novel\n",
       "2510  235105  0316666343       8  The Lovely Bones: A Novel\n",
       "1059   11676  0316666343       5  The Lovely Bones: A Novel"
      ]
     },
     "execution_count": 34,
     "metadata": {},
     "output_type": "execute_result"
    }
   ],
   "source": [
    "train_data.head(5)"
   ]
  },
  {
   "cell_type": "code",
   "execution_count": 35,
   "metadata": {},
   "outputs": [
    {
     "data": {
      "text/plain": [
       "(5188, 4)"
      ]
     },
     "execution_count": 35,
     "metadata": {},
     "output_type": "execute_result"
    }
   ],
   "source": [
    "train_data.shape"
   ]
  },
  {
   "cell_type": "code",
   "execution_count": 36,
   "metadata": {},
   "outputs": [
    {
     "data": {
      "text/plain": [
       "(1298, 4)"
      ]
     },
     "execution_count": 36,
     "metadata": {},
     "output_type": "execute_result"
    }
   ],
   "source": [
    "test_data.shape "
   ]
  },
  {
   "cell_type": "code",
   "execution_count": 37,
   "metadata": {},
   "outputs": [
    {
     "data": {
      "text/plain": [
       "549"
      ]
     },
     "execution_count": 37,
     "metadata": {},
     "output_type": "execute_result"
    }
   ],
   "source": [
    "test_user1 = list(test_data['User-ID'].unique())\n",
    "len(test_user1)"
   ]
  },
  {
   "cell_type": "code",
   "execution_count": 38,
   "metadata": {},
   "outputs": [
    {
     "data": {
      "text/plain": [
       "1288"
      ]
     },
     "execution_count": 38,
     "metadata": {},
     "output_type": "execute_result"
    }
   ],
   "source": [
    "# remove the users that are not in training dataset because we can only use training dataset to calculate user bias\n",
    "\n",
    "# uniq user-IDs of training dataset\n",
    "desired_test_user = list(train_data['User-ID'].unique())\n",
    "len(desired_test_user)"
   ]
  },
  {
   "cell_type": "code",
   "execution_count": 39,
   "metadata": {},
   "outputs": [
    {
     "data": {
      "text/plain": [
       "(1220, 4)"
      ]
     },
     "execution_count": 39,
     "metadata": {},
     "output_type": "execute_result"
    }
   ],
   "source": [
    "# remove the users that are not in the list of uniq user-IDs of training dataset\n",
    "test_data =test_data[test_data['User-ID'].isin(desired_test_user)]\n",
    "test_data.shape"
   ]
  },
  {
   "cell_type": "code",
   "execution_count": 40,
   "metadata": {},
   "outputs": [
    {
     "data": {
      "text/plain": [
       "494"
      ]
     },
     "execution_count": 40,
     "metadata": {},
     "output_type": "execute_result"
    }
   ],
   "source": [
    "# Some users's data were dropped\n",
    "test_user = list(test_data['User-ID'].unique())\n",
    "len(test_user)"
   ]
  },
  {
   "cell_type": "markdown",
   "metadata": {},
   "source": [
    "**2.2 calculate the raw average of training dataset**"
   ]
  },
  {
   "cell_type": "code",
   "execution_count": 41,
   "metadata": {},
   "outputs": [
    {
     "data": {
      "text/plain": [
       "5188"
      ]
     },
     "execution_count": 41,
     "metadata": {},
     "output_type": "execute_result"
    }
   ],
   "source": [
    "non_zero = (train_data['Rating']!=0).sum()\n",
    "non_zero"
   ]
  },
  {
   "cell_type": "code",
   "execution_count": 42,
   "metadata": {},
   "outputs": [
    {
     "name": "stdout",
     "output_type": "stream",
     "text": [
      "sparsity of training dataset: 75%\n"
     ]
    }
   ],
   "source": [
    "# sparsity = 1 - (ratings/users*items)\n",
    "non_zero= (train_data['Rating']!=0).sum() \n",
    "sparsity_train = 1- non_zero/(train_data.shape[0] * train_data.shape[1])\n",
    "a = \"{0:.0f}%\".format(sparsity_train*100)\n",
    "print('sparsity of training dataset:',a)"
   ]
  },
  {
   "cell_type": "code",
   "execution_count": 43,
   "metadata": {
    "collapsed": true
   },
   "outputs": [],
   "source": [
    "#pivot train_data and test_data to generate two user-item matrices, one for training and another for testing\n",
    "train_matrix = train_data.pivot_table(index='User-ID', columns='ISBN', values='Rating') \n",
    "test_matrix = test_data.pivot_table(index='User-ID', columns='ISBN', values='Rating')"
   ]
  },
  {
   "cell_type": "code",
   "execution_count": 44,
   "metadata": {},
   "outputs": [
    {
     "data": {
      "text/html": [
       "<div>\n",
       "<style>\n",
       "    .dataframe thead tr:only-child th {\n",
       "        text-align: right;\n",
       "    }\n",
       "\n",
       "    .dataframe thead th {\n",
       "        text-align: left;\n",
       "    }\n",
       "\n",
       "    .dataframe tbody tr th {\n",
       "        vertical-align: top;\n",
       "    }\n",
       "</style>\n",
       "<table border=\"1\" class=\"dataframe\">\n",
       "  <thead>\n",
       "    <tr style=\"text-align: right;\">\n",
       "      <th>ISBN</th>\n",
       "      <th>0312195516</th>\n",
       "      <th>0316666343</th>\n",
       "      <th>0345337662</th>\n",
       "      <th>0375727345</th>\n",
       "    </tr>\n",
       "    <tr>\n",
       "      <th>User-ID</th>\n",
       "      <th></th>\n",
       "      <th></th>\n",
       "      <th></th>\n",
       "      <th></th>\n",
       "    </tr>\n",
       "  </thead>\n",
       "  <tbody>\n",
       "    <tr>\n",
       "      <th>100043</th>\n",
       "      <td>NaN</td>\n",
       "      <td>NaN</td>\n",
       "      <td>NaN</td>\n",
       "      <td>8.0</td>\n",
       "    </tr>\n",
       "    <tr>\n",
       "      <th>100251</th>\n",
       "      <td>NaN</td>\n",
       "      <td>NaN</td>\n",
       "      <td>5.0</td>\n",
       "      <td>NaN</td>\n",
       "    </tr>\n",
       "    <tr>\n",
       "      <th>100343</th>\n",
       "      <td>NaN</td>\n",
       "      <td>3.0</td>\n",
       "      <td>NaN</td>\n",
       "      <td>NaN</td>\n",
       "    </tr>\n",
       "    <tr>\n",
       "      <th>100459</th>\n",
       "      <td>NaN</td>\n",
       "      <td>NaN</td>\n",
       "      <td>NaN</td>\n",
       "      <td>8.0</td>\n",
       "    </tr>\n",
       "    <tr>\n",
       "      <th>100471</th>\n",
       "      <td>NaN</td>\n",
       "      <td>NaN</td>\n",
       "      <td>NaN</td>\n",
       "      <td>8.0</td>\n",
       "    </tr>\n",
       "  </tbody>\n",
       "</table>\n",
       "</div>"
      ],
      "text/plain": [
       "ISBN     0312195516  0316666343  0345337662  0375727345\n",
       "User-ID                                                \n",
       "100043          NaN         NaN         NaN         8.0\n",
       "100251          NaN         NaN         5.0         NaN\n",
       "100343          NaN         3.0         NaN         NaN\n",
       "100459          NaN         NaN         NaN         8.0\n",
       "100471          NaN         NaN         NaN         8.0"
      ]
     },
     "execution_count": 44,
     "metadata": {},
     "output_type": "execute_result"
    }
   ],
   "source": [
    "train_matrix.head(5)"
   ]
  },
  {
   "cell_type": "code",
   "execution_count": 45,
   "metadata": {},
   "outputs": [
    {
     "name": "stdout",
     "output_type": "stream",
     "text": [
      "<class 'pandas.core.frame.DataFrame'>\n",
      "Index: 1288 entries, 100043 to 99997\n",
      "Data columns (total 4 columns):\n",
      "0312195516    340 non-null float64\n",
      "0316666343    633 non-null float64\n",
      "0345337662    171 non-null float64\n",
      "0375727345    201 non-null float64\n",
      "dtypes: float64(4)\n",
      "memory usage: 50.3+ KB\n"
     ]
    }
   ],
   "source": [
    "train_matrix.info()"
   ]
  },
  {
   "cell_type": "code",
   "execution_count": 46,
   "metadata": {},
   "outputs": [
    {
     "data": {
      "text/html": [
       "<div>\n",
       "<style>\n",
       "    .dataframe thead tr:only-child th {\n",
       "        text-align: right;\n",
       "    }\n",
       "\n",
       "    .dataframe thead th {\n",
       "        text-align: left;\n",
       "    }\n",
       "\n",
       "    .dataframe tbody tr th {\n",
       "        vertical-align: top;\n",
       "    }\n",
       "</style>\n",
       "<table border=\"1\" class=\"dataframe\">\n",
       "  <thead>\n",
       "    <tr style=\"text-align: right;\">\n",
       "      <th>ISBN</th>\n",
       "      <th>0312195516</th>\n",
       "      <th>0316666343</th>\n",
       "      <th>0345337662</th>\n",
       "      <th>0375727345</th>\n",
       "    </tr>\n",
       "    <tr>\n",
       "      <th>User-ID</th>\n",
       "      <th></th>\n",
       "      <th></th>\n",
       "      <th></th>\n",
       "      <th></th>\n",
       "    </tr>\n",
       "  </thead>\n",
       "  <tbody>\n",
       "    <tr>\n",
       "      <th>100043</th>\n",
       "      <td>0.0</td>\n",
       "      <td>0.0</td>\n",
       "      <td>0.0</td>\n",
       "      <td>8.0</td>\n",
       "    </tr>\n",
       "    <tr>\n",
       "      <th>100251</th>\n",
       "      <td>0.0</td>\n",
       "      <td>0.0</td>\n",
       "      <td>5.0</td>\n",
       "      <td>0.0</td>\n",
       "    </tr>\n",
       "    <tr>\n",
       "      <th>100343</th>\n",
       "      <td>0.0</td>\n",
       "      <td>3.0</td>\n",
       "      <td>0.0</td>\n",
       "      <td>0.0</td>\n",
       "    </tr>\n",
       "    <tr>\n",
       "      <th>100459</th>\n",
       "      <td>0.0</td>\n",
       "      <td>0.0</td>\n",
       "      <td>0.0</td>\n",
       "      <td>8.0</td>\n",
       "    </tr>\n",
       "    <tr>\n",
       "      <th>100471</th>\n",
       "      <td>0.0</td>\n",
       "      <td>0.0</td>\n",
       "      <td>0.0</td>\n",
       "      <td>8.0</td>\n",
       "    </tr>\n",
       "  </tbody>\n",
       "</table>\n",
       "</div>"
      ],
      "text/plain": [
       "ISBN     0312195516  0316666343  0345337662  0375727345\n",
       "User-ID                                                \n",
       "100043          0.0         0.0         0.0         8.0\n",
       "100251          0.0         0.0         5.0         0.0\n",
       "100343          0.0         3.0         0.0         0.0\n",
       "100459          0.0         0.0         0.0         8.0\n",
       "100471          0.0         0.0         0.0         8.0"
      ]
     },
     "execution_count": 46,
     "metadata": {},
     "output_type": "execute_result"
    }
   ],
   "source": [
    "train_matrix = train_matrix.fillna(0)\n",
    "train_matrix.head(5)"
   ]
  },
  {
   "cell_type": "code",
   "execution_count": 73,
   "metadata": {},
   "outputs": [
    {
     "data": {
      "text/plain": [
       "1345"
      ]
     },
     "execution_count": 73,
     "metadata": {},
     "output_type": "execute_result"
    }
   ],
   "source": [
    "count_non_zero = (train_matrix != 0).sum() \n",
    "count_non_zero = count_non_zero.sum() \n",
    "count_non_zero"
   ]
  },
  {
   "cell_type": "code",
   "execution_count": 78,
   "metadata": {},
   "outputs": [
    {
     "data": {
      "text/plain": [
       "10743.0"
      ]
     },
     "execution_count": 78,
     "metadata": {},
     "output_type": "execute_result"
    }
   ],
   "source": [
    "sum_non_zero = train_matrix.sum(axis=1)\n",
    "sum_non_zero = sum_non_zero.sum()\n",
    "sum_non_zero"
   ]
  },
  {
   "cell_type": "code",
   "execution_count": 79,
   "metadata": {},
   "outputs": [
    {
     "data": {
      "text/plain": [
       "7.987360594795539"
      ]
     },
     "execution_count": 79,
     "metadata": {},
     "output_type": "execute_result"
    }
   ],
   "source": [
    "raw_avg = sum_non_zero/count_non_zero\n",
    "raw_avg"
   ]
  },
  {
   "cell_type": "markdown",
   "metadata": {},
   "source": [
    "**2.3 Calculate the RMSE for raw average for both your training data and your test data.**"
   ]
  },
  {
   "cell_type": "code",
   "execution_count": 80,
   "metadata": {},
   "outputs": [
    {
     "name": "stdout",
     "output_type": "stream",
     "text": [
      "RMSE for taining dataset based on raw_average is: 1.6457188190300436\n"
     ]
    }
   ],
   "source": [
    "#RMSE for taining dataset\n",
    "\n",
    "train_matrix = train_matrix.fillna(0)\n",
    "se = 0\n",
    "for r in range(train_matrix.shape[0]):\n",
    "    for c in range(train_matrix.shape[1]):\n",
    "        if train_matrix.iloc[r,c] != 0:\n",
    "            se = se + (train_matrix.iloc[r,c]- raw_avg)**2\n",
    "mse = se/count_non_zero\n",
    "rmse_1_train = sqrt(mse)\n",
    "print('RMSE for taining dataset based on raw_average is:', rmse_1_train)"
   ]
  },
  {
   "cell_type": "code",
   "execution_count": 81,
   "metadata": {},
   "outputs": [
    {
     "name": "stdout",
     "output_type": "stream",
     "text": [
      "RMSE for testing dataset based on raw_average is: 1.0257074482614486\n"
     ]
    }
   ],
   "source": [
    "#RMSE for testing dataset\n",
    "\n",
    "test_matrix = test_matrix.fillna(0)\n",
    "se = 0\n",
    "for r in range(test_matrix.shape[0]):\n",
    "    for c in range(test_matrix.shape[1]):\n",
    "        if test_matrix.iloc[r,c] != 0:\n",
    "            se = se + (test_matrix.iloc[r,c]- raw_avg)**2\n",
    "mse = se/count_non_zero\n",
    "rmse_1_test = sqrt(mse)\n",
    "print('RMSE for testing dataset based on raw_average is:', rmse_1_test)"
   ]
  },
  {
   "cell_type": "markdown",
   "metadata": {},
   "source": [
    "**2.4 Using the training data to calculate the bias for each user and each item.**"
   ]
  },
  {
   "cell_type": "code",
   "execution_count": 110,
   "metadata": {},
   "outputs": [
    {
     "data": {
      "text/html": [
       "<div>\n",
       "<style>\n",
       "    .dataframe thead tr:only-child th {\n",
       "        text-align: right;\n",
       "    }\n",
       "\n",
       "    .dataframe thead th {\n",
       "        text-align: left;\n",
       "    }\n",
       "\n",
       "    .dataframe tbody tr th {\n",
       "        vertical-align: top;\n",
       "    }\n",
       "</style>\n",
       "<table border=\"1\" class=\"dataframe\">\n",
       "  <thead>\n",
       "    <tr style=\"text-align: right;\">\n",
       "      <th>ISBN</th>\n",
       "      <th>0312195516</th>\n",
       "      <th>0316666343</th>\n",
       "      <th>0345337662</th>\n",
       "      <th>0375727345</th>\n",
       "    </tr>\n",
       "    <tr>\n",
       "      <th>User-ID</th>\n",
       "      <th></th>\n",
       "      <th></th>\n",
       "      <th></th>\n",
       "      <th></th>\n",
       "    </tr>\n",
       "  </thead>\n",
       "  <tbody>\n",
       "    <tr>\n",
       "      <th>100043</th>\n",
       "      <td>NaN</td>\n",
       "      <td>NaN</td>\n",
       "      <td>NaN</td>\n",
       "      <td>8.0</td>\n",
       "    </tr>\n",
       "    <tr>\n",
       "      <th>100251</th>\n",
       "      <td>NaN</td>\n",
       "      <td>NaN</td>\n",
       "      <td>5.0</td>\n",
       "      <td>NaN</td>\n",
       "    </tr>\n",
       "    <tr>\n",
       "      <th>100343</th>\n",
       "      <td>NaN</td>\n",
       "      <td>3.0</td>\n",
       "      <td>NaN</td>\n",
       "      <td>NaN</td>\n",
       "    </tr>\n",
       "    <tr>\n",
       "      <th>100459</th>\n",
       "      <td>NaN</td>\n",
       "      <td>NaN</td>\n",
       "      <td>NaN</td>\n",
       "      <td>8.0</td>\n",
       "    </tr>\n",
       "    <tr>\n",
       "      <th>100471</th>\n",
       "      <td>NaN</td>\n",
       "      <td>NaN</td>\n",
       "      <td>NaN</td>\n",
       "      <td>8.0</td>\n",
       "    </tr>\n",
       "  </tbody>\n",
       "</table>\n",
       "</div>"
      ],
      "text/plain": [
       "ISBN     0312195516  0316666343  0345337662  0375727345\n",
       "User-ID                                                \n",
       "100043          NaN         NaN         NaN         8.0\n",
       "100251          NaN         NaN         5.0         NaN\n",
       "100343          NaN         3.0         NaN         NaN\n",
       "100459          NaN         NaN         NaN         8.0\n",
       "100471          NaN         NaN         NaN         8.0"
      ]
     },
     "execution_count": 110,
     "metadata": {},
     "output_type": "execute_result"
    }
   ],
   "source": [
    "train_matrix = train_matrix.replace(0, np.NaN)\n",
    "train_matrix = train_matrix.dropna(how='all')\n",
    "train_matrix = train_matrix.dropna(how='all',axis=1)\n",
    "train_matrix.head(5)"
   ]
  },
  {
   "cell_type": "code",
   "execution_count": 111,
   "metadata": {},
   "outputs": [
    {
     "data": {
      "text/plain": [
       "(1288, 4)"
      ]
     },
     "execution_count": 111,
     "metadata": {},
     "output_type": "execute_result"
    }
   ],
   "source": [
    "train_matrix.shape"
   ]
  },
  {
   "cell_type": "code",
   "execution_count": 116,
   "metadata": {},
   "outputs": [
    {
     "data": {
      "text/plain": [
       "User-ID\n",
       "100043    0.212221\n",
       "100251   -2.787779\n",
       "100343   -4.787779\n",
       "100459    0.212221\n",
       "100471    0.212221\n",
       "dtype: float64"
      ]
     },
     "execution_count": 116,
     "metadata": {},
     "output_type": "execute_result"
    }
   ],
   "source": [
    "user_bias = train_matrix.mean(axis=1)\n",
    "for i in range(user_bias.shape[0]):\n",
    "    user_bias[i] = user_bias[i] - raw_avg\n",
    "user_bias.head(5)"
   ]
  },
  {
   "cell_type": "code",
   "execution_count": 117,
   "metadata": {},
   "outputs": [
    {
     "data": {
      "text/plain": [
       "ISBN\n",
       "0312195516    0.379868\n",
       "0316666343    0.384416\n",
       "0345337662   -0.039241\n",
       "0375727345   -0.484297\n",
       "dtype: float64"
      ]
     },
     "execution_count": 117,
     "metadata": {},
     "output_type": "execute_result"
    }
   ],
   "source": [
    "book_bias = train_matrix.mean(axis=0)\n",
    "for i in range(book_bias.shape[0]):\n",
    "    book_bias[i] = book_bias[i] - raw_avg\n",
    "book_bias.head()"
   ]
  },
  {
   "cell_type": "code",
   "execution_count": 118,
   "metadata": {},
   "outputs": [
    {
     "data": {
      "text/plain": [
       "Index(['100043', '100251', '100343', '100459', '100471', '100781', '1008',\n",
       "       '10112', '101154', '101305',\n",
       "       ...\n",
       "       '97874', '98356', '98391', '98551', '98783', '98904', '99172', '99298',\n",
       "       '99349', '99997'],\n",
       "      dtype='object', name='User-ID', length=1288)"
      ]
     },
     "execution_count": 118,
     "metadata": {},
     "output_type": "execute_result"
    }
   ],
   "source": [
    "train_matrix.index"
   ]
  },
  {
   "cell_type": "markdown",
   "metadata": {},
   "source": [
    "**2.5 From the raw average, and the appropriate user and item biases, calculate the baseline predictors for every user-item combination.**"
   ]
  },
  {
   "cell_type": "code",
   "execution_count": 120,
   "metadata": {},
   "outputs": [
    {
     "data": {
      "text/html": [
       "<div>\n",
       "<style>\n",
       "    .dataframe thead tr:only-child th {\n",
       "        text-align: right;\n",
       "    }\n",
       "\n",
       "    .dataframe thead th {\n",
       "        text-align: left;\n",
       "    }\n",
       "\n",
       "    .dataframe tbody tr th {\n",
       "        vertical-align: top;\n",
       "    }\n",
       "</style>\n",
       "<table border=\"1\" class=\"dataframe\">\n",
       "  <thead>\n",
       "    <tr style=\"text-align: right;\">\n",
       "      <th>ISBN</th>\n",
       "      <th>0312195516</th>\n",
       "      <th>0316666343</th>\n",
       "      <th>0345337662</th>\n",
       "      <th>0375727345</th>\n",
       "    </tr>\n",
       "    <tr>\n",
       "      <th>User-ID</th>\n",
       "      <th></th>\n",
       "      <th></th>\n",
       "      <th></th>\n",
       "      <th></th>\n",
       "    </tr>\n",
       "  </thead>\n",
       "  <tbody>\n",
       "    <tr>\n",
       "      <th>100043</th>\n",
       "      <td>8.379868</td>\n",
       "      <td>8.384416</td>\n",
       "      <td>7.960759</td>\n",
       "      <td>7.515703</td>\n",
       "    </tr>\n",
       "    <tr>\n",
       "      <th>100251</th>\n",
       "      <td>5.379868</td>\n",
       "      <td>5.384416</td>\n",
       "      <td>4.960759</td>\n",
       "      <td>4.515703</td>\n",
       "    </tr>\n",
       "    <tr>\n",
       "      <th>100343</th>\n",
       "      <td>3.379868</td>\n",
       "      <td>3.384416</td>\n",
       "      <td>2.960759</td>\n",
       "      <td>2.515703</td>\n",
       "    </tr>\n",
       "    <tr>\n",
       "      <th>100459</th>\n",
       "      <td>8.379868</td>\n",
       "      <td>8.384416</td>\n",
       "      <td>7.960759</td>\n",
       "      <td>7.515703</td>\n",
       "    </tr>\n",
       "    <tr>\n",
       "      <th>100471</th>\n",
       "      <td>8.379868</td>\n",
       "      <td>8.384416</td>\n",
       "      <td>7.960759</td>\n",
       "      <td>7.515703</td>\n",
       "    </tr>\n",
       "    <tr>\n",
       "      <th>100781</th>\n",
       "      <td>10.379868</td>\n",
       "      <td>10.384416</td>\n",
       "      <td>9.960759</td>\n",
       "      <td>9.515703</td>\n",
       "    </tr>\n",
       "    <tr>\n",
       "      <th>1008</th>\n",
       "      <td>9.379868</td>\n",
       "      <td>9.384416</td>\n",
       "      <td>8.960759</td>\n",
       "      <td>8.515703</td>\n",
       "    </tr>\n",
       "    <tr>\n",
       "      <th>10112</th>\n",
       "      <td>7.379868</td>\n",
       "      <td>7.384416</td>\n",
       "      <td>6.960759</td>\n",
       "      <td>6.515703</td>\n",
       "    </tr>\n",
       "    <tr>\n",
       "      <th>101154</th>\n",
       "      <td>8.379868</td>\n",
       "      <td>8.384416</td>\n",
       "      <td>7.960759</td>\n",
       "      <td>7.515703</td>\n",
       "    </tr>\n",
       "    <tr>\n",
       "      <th>101305</th>\n",
       "      <td>5.379868</td>\n",
       "      <td>5.384416</td>\n",
       "      <td>4.960759</td>\n",
       "      <td>4.515703</td>\n",
       "    </tr>\n",
       "    <tr>\n",
       "      <th>101338</th>\n",
       "      <td>9.379868</td>\n",
       "      <td>9.384416</td>\n",
       "      <td>8.960759</td>\n",
       "      <td>8.515703</td>\n",
       "    </tr>\n",
       "    <tr>\n",
       "      <th>101606</th>\n",
       "      <td>8.379868</td>\n",
       "      <td>8.384416</td>\n",
       "      <td>7.960759</td>\n",
       "      <td>7.515703</td>\n",
       "    </tr>\n",
       "    <tr>\n",
       "      <th>101703</th>\n",
       "      <td>9.379868</td>\n",
       "      <td>9.384416</td>\n",
       "      <td>8.960759</td>\n",
       "      <td>8.515703</td>\n",
       "    </tr>\n",
       "    <tr>\n",
       "      <th>101857</th>\n",
       "      <td>9.379868</td>\n",
       "      <td>9.384416</td>\n",
       "      <td>8.960759</td>\n",
       "      <td>8.515703</td>\n",
       "    </tr>\n",
       "    <tr>\n",
       "      <th>101935</th>\n",
       "      <td>6.379868</td>\n",
       "      <td>6.384416</td>\n",
       "      <td>5.960759</td>\n",
       "      <td>5.515703</td>\n",
       "    </tr>\n",
       "    <tr>\n",
       "      <th>10199</th>\n",
       "      <td>7.379868</td>\n",
       "      <td>7.384416</td>\n",
       "      <td>6.960759</td>\n",
       "      <td>6.515703</td>\n",
       "    </tr>\n",
       "    <tr>\n",
       "      <th>10314</th>\n",
       "      <td>9.379868</td>\n",
       "      <td>9.384416</td>\n",
       "      <td>8.960759</td>\n",
       "      <td>8.515703</td>\n",
       "    </tr>\n",
       "    <tr>\n",
       "      <th>103304</th>\n",
       "      <td>8.379868</td>\n",
       "      <td>8.384416</td>\n",
       "      <td>7.960759</td>\n",
       "      <td>7.515703</td>\n",
       "    </tr>\n",
       "    <tr>\n",
       "      <th>103336</th>\n",
       "      <td>10.379868</td>\n",
       "      <td>10.384416</td>\n",
       "      <td>9.960759</td>\n",
       "      <td>9.515703</td>\n",
       "    </tr>\n",
       "    <tr>\n",
       "      <th>103734</th>\n",
       "      <td>7.379868</td>\n",
       "      <td>7.384416</td>\n",
       "      <td>6.960759</td>\n",
       "      <td>6.515703</td>\n",
       "    </tr>\n",
       "  </tbody>\n",
       "</table>\n",
       "</div>"
      ],
      "text/plain": [
       "ISBN     0312195516  0316666343  0345337662  0375727345\n",
       "User-ID                                                \n",
       "100043     8.379868    8.384416    7.960759    7.515703\n",
       "100251     5.379868    5.384416    4.960759    4.515703\n",
       "100343     3.379868    3.384416    2.960759    2.515703\n",
       "100459     8.379868    8.384416    7.960759    7.515703\n",
       "100471     8.379868    8.384416    7.960759    7.515703\n",
       "100781    10.379868   10.384416    9.960759    9.515703\n",
       "1008       9.379868    9.384416    8.960759    8.515703\n",
       "10112      7.379868    7.384416    6.960759    6.515703\n",
       "101154     8.379868    8.384416    7.960759    7.515703\n",
       "101305     5.379868    5.384416    4.960759    4.515703\n",
       "101338     9.379868    9.384416    8.960759    8.515703\n",
       "101606     8.379868    8.384416    7.960759    7.515703\n",
       "101703     9.379868    9.384416    8.960759    8.515703\n",
       "101857     9.379868    9.384416    8.960759    8.515703\n",
       "101935     6.379868    6.384416    5.960759    5.515703\n",
       "10199      7.379868    7.384416    6.960759    6.515703\n",
       "10314      9.379868    9.384416    8.960759    8.515703\n",
       "103304     8.379868    8.384416    7.960759    7.515703\n",
       "103336    10.379868   10.384416    9.960759    9.515703\n",
       "103734     7.379868    7.384416    6.960759    6.515703"
      ]
     },
     "execution_count": 120,
     "metadata": {},
     "output_type": "execute_result"
    }
   ],
   "source": [
    "# first create an empty DataFrame:\n",
    "predictor_matrix = pd.DataFrame(index=train_matrix.index, columns=book_bias.index)\n",
    "predictor_matrix = predictor_matrix.fillna(0) # with 0s rather than NaNs  \n",
    "predictor_matrix = DataFrame(predictor_matrix)\n",
    "\n",
    "# baseline predictor\n",
    "for r in range(train_matrix.shape[0]):\n",
    "    for c in range(book_bias.shape[0]):\n",
    "        predictor_matrix.iloc[r,c] = raw_avg + user_bias[r] + book_bias[c]\n",
    "predictor_matrix.head(20)"
   ]
  },
  {
   "cell_type": "code",
   "execution_count": 122,
   "metadata": {},
   "outputs": [
    {
     "data": {
      "text/html": [
       "<div>\n",
       "<style>\n",
       "    .dataframe thead tr:only-child th {\n",
       "        text-align: right;\n",
       "    }\n",
       "\n",
       "    .dataframe thead th {\n",
       "        text-align: left;\n",
       "    }\n",
       "\n",
       "    .dataframe tbody tr th {\n",
       "        vertical-align: top;\n",
       "    }\n",
       "</style>\n",
       "<table border=\"1\" class=\"dataframe\">\n",
       "  <thead>\n",
       "    <tr style=\"text-align: right;\">\n",
       "      <th>ISBN</th>\n",
       "      <th>0312195516</th>\n",
       "      <th>0316666343</th>\n",
       "      <th>0345337662</th>\n",
       "      <th>0375727345</th>\n",
       "    </tr>\n",
       "    <tr>\n",
       "      <th>User-ID</th>\n",
       "      <th></th>\n",
       "      <th></th>\n",
       "      <th></th>\n",
       "      <th></th>\n",
       "    </tr>\n",
       "  </thead>\n",
       "  <tbody>\n",
       "    <tr>\n",
       "      <th>100043</th>\n",
       "      <td>8.379868</td>\n",
       "      <td>8.384416</td>\n",
       "      <td>7.960759</td>\n",
       "      <td>7.515703</td>\n",
       "    </tr>\n",
       "    <tr>\n",
       "      <th>100251</th>\n",
       "      <td>5.379868</td>\n",
       "      <td>5.384416</td>\n",
       "      <td>4.960759</td>\n",
       "      <td>4.515703</td>\n",
       "    </tr>\n",
       "    <tr>\n",
       "      <th>100343</th>\n",
       "      <td>3.379868</td>\n",
       "      <td>3.384416</td>\n",
       "      <td>2.960759</td>\n",
       "      <td>2.515703</td>\n",
       "    </tr>\n",
       "    <tr>\n",
       "      <th>100459</th>\n",
       "      <td>8.379868</td>\n",
       "      <td>8.384416</td>\n",
       "      <td>7.960759</td>\n",
       "      <td>7.515703</td>\n",
       "    </tr>\n",
       "    <tr>\n",
       "      <th>100471</th>\n",
       "      <td>8.379868</td>\n",
       "      <td>8.384416</td>\n",
       "      <td>7.960759</td>\n",
       "      <td>7.515703</td>\n",
       "    </tr>\n",
       "    <tr>\n",
       "      <th>100781</th>\n",
       "      <td>10.000000</td>\n",
       "      <td>10.000000</td>\n",
       "      <td>9.960759</td>\n",
       "      <td>9.515703</td>\n",
       "    </tr>\n",
       "    <tr>\n",
       "      <th>1008</th>\n",
       "      <td>9.379868</td>\n",
       "      <td>9.384416</td>\n",
       "      <td>8.960759</td>\n",
       "      <td>8.515703</td>\n",
       "    </tr>\n",
       "    <tr>\n",
       "      <th>10112</th>\n",
       "      <td>7.379868</td>\n",
       "      <td>7.384416</td>\n",
       "      <td>6.960759</td>\n",
       "      <td>6.515703</td>\n",
       "    </tr>\n",
       "    <tr>\n",
       "      <th>101154</th>\n",
       "      <td>8.379868</td>\n",
       "      <td>8.384416</td>\n",
       "      <td>7.960759</td>\n",
       "      <td>7.515703</td>\n",
       "    </tr>\n",
       "    <tr>\n",
       "      <th>101305</th>\n",
       "      <td>5.379868</td>\n",
       "      <td>5.384416</td>\n",
       "      <td>4.960759</td>\n",
       "      <td>4.515703</td>\n",
       "    </tr>\n",
       "    <tr>\n",
       "      <th>101338</th>\n",
       "      <td>9.379868</td>\n",
       "      <td>9.384416</td>\n",
       "      <td>8.960759</td>\n",
       "      <td>8.515703</td>\n",
       "    </tr>\n",
       "    <tr>\n",
       "      <th>101606</th>\n",
       "      <td>8.379868</td>\n",
       "      <td>8.384416</td>\n",
       "      <td>7.960759</td>\n",
       "      <td>7.515703</td>\n",
       "    </tr>\n",
       "    <tr>\n",
       "      <th>101703</th>\n",
       "      <td>9.379868</td>\n",
       "      <td>9.384416</td>\n",
       "      <td>8.960759</td>\n",
       "      <td>8.515703</td>\n",
       "    </tr>\n",
       "    <tr>\n",
       "      <th>101857</th>\n",
       "      <td>9.379868</td>\n",
       "      <td>9.384416</td>\n",
       "      <td>8.960759</td>\n",
       "      <td>8.515703</td>\n",
       "    </tr>\n",
       "    <tr>\n",
       "      <th>101935</th>\n",
       "      <td>6.379868</td>\n",
       "      <td>6.384416</td>\n",
       "      <td>5.960759</td>\n",
       "      <td>5.515703</td>\n",
       "    </tr>\n",
       "    <tr>\n",
       "      <th>10199</th>\n",
       "      <td>7.379868</td>\n",
       "      <td>7.384416</td>\n",
       "      <td>6.960759</td>\n",
       "      <td>6.515703</td>\n",
       "    </tr>\n",
       "    <tr>\n",
       "      <th>10314</th>\n",
       "      <td>9.379868</td>\n",
       "      <td>9.384416</td>\n",
       "      <td>8.960759</td>\n",
       "      <td>8.515703</td>\n",
       "    </tr>\n",
       "    <tr>\n",
       "      <th>103304</th>\n",
       "      <td>8.379868</td>\n",
       "      <td>8.384416</td>\n",
       "      <td>7.960759</td>\n",
       "      <td>7.515703</td>\n",
       "    </tr>\n",
       "    <tr>\n",
       "      <th>103336</th>\n",
       "      <td>10.000000</td>\n",
       "      <td>10.000000</td>\n",
       "      <td>9.960759</td>\n",
       "      <td>9.515703</td>\n",
       "    </tr>\n",
       "    <tr>\n",
       "      <th>103734</th>\n",
       "      <td>7.379868</td>\n",
       "      <td>7.384416</td>\n",
       "      <td>6.960759</td>\n",
       "      <td>6.515703</td>\n",
       "    </tr>\n",
       "  </tbody>\n",
       "</table>\n",
       "</div>"
      ],
      "text/plain": [
       "ISBN     0312195516  0316666343  0345337662  0375727345\n",
       "User-ID                                                \n",
       "100043     8.379868    8.384416    7.960759    7.515703\n",
       "100251     5.379868    5.384416    4.960759    4.515703\n",
       "100343     3.379868    3.384416    2.960759    2.515703\n",
       "100459     8.379868    8.384416    7.960759    7.515703\n",
       "100471     8.379868    8.384416    7.960759    7.515703\n",
       "100781    10.000000   10.000000    9.960759    9.515703\n",
       "1008       9.379868    9.384416    8.960759    8.515703\n",
       "10112      7.379868    7.384416    6.960759    6.515703\n",
       "101154     8.379868    8.384416    7.960759    7.515703\n",
       "101305     5.379868    5.384416    4.960759    4.515703\n",
       "101338     9.379868    9.384416    8.960759    8.515703\n",
       "101606     8.379868    8.384416    7.960759    7.515703\n",
       "101703     9.379868    9.384416    8.960759    8.515703\n",
       "101857     9.379868    9.384416    8.960759    8.515703\n",
       "101935     6.379868    6.384416    5.960759    5.515703\n",
       "10199      7.379868    7.384416    6.960759    6.515703\n",
       "10314      9.379868    9.384416    8.960759    8.515703\n",
       "103304     8.379868    8.384416    7.960759    7.515703\n",
       "103336    10.000000   10.000000    9.960759    9.515703\n",
       "103734     7.379868    7.384416    6.960759    6.515703"
      ]
     },
     "execution_count": 122,
     "metadata": {},
     "output_type": "execute_result"
    }
   ],
   "source": [
    "predictor_matrix[predictor_matrix >10] = 10\n",
    "predictor_matrix[predictor_matrix <1] = 1\n",
    "predictor_matrix.head(20)"
   ]
  },
  {
   "cell_type": "markdown",
   "metadata": {},
   "source": [
    "**2.6 Calculate the RMSE for the baseline predictors for both the training data and your test data.**"
   ]
  },
  {
   "cell_type": "markdown",
   "metadata": {},
   "source": [
    "** 2.6.1 RMSE for the baseline predictors for the training data**"
   ]
  },
  {
   "cell_type": "code",
   "execution_count": 125,
   "metadata": {},
   "outputs": [
    {
     "name": "stdout",
     "output_type": "stream",
     "text": [
      "RMSE of baseline predictor for training dataset: 0.448324533462584\n"
     ]
    }
   ],
   "source": [
    "#RMSE\n",
    "train_matrix = train_matrix.fillna(0)\n",
    "se = 0\n",
    "for r in range(train_matrix.shape[0]):\n",
    "    for c in range(train_matrix.shape[1]):\n",
    "        if train_matrix.iloc[r,c] != 0:\n",
    "            se = se + (train_matrix.iloc[r,c]- predictor_matrix.iloc[r,c])**2\n",
    "\n",
    "mse = se/count_non_zero\n",
    "rmse_2_train = sqrt(mse)\n",
    "print('RMSE of baseline predictor for training dataset:', rmse_2_train)  "
   ]
  },
  {
   "cell_type": "code",
   "execution_count": 126,
   "metadata": {},
   "outputs": [
    {
     "name": "stdout",
     "output_type": "stream",
     "text": [
      "baseline predictor improved RMSE by 73% for training dataset:\n"
     ]
    }
   ],
   "source": [
    "improve_train = 1- (rmse_2_train/rmse_1_train)\n",
    "improve_train = \"{0:.0f}%\".format(abs(improve_train)*100)\n",
    "print('baseline predictor improved RMSE by', improve_train, 'for training dataset:')"
   ]
  },
  {
   "cell_type": "markdown",
   "metadata": {},
   "source": [
    "** 2.6.2 RMSE for the baseline predictors for the testing data**"
   ]
  },
  {
   "cell_type": "code",
   "execution_count": 127,
   "metadata": {
    "scrolled": true
   },
   "outputs": [
    {
     "data": {
      "text/html": [
       "<div>\n",
       "<style>\n",
       "    .dataframe thead tr:only-child th {\n",
       "        text-align: right;\n",
       "    }\n",
       "\n",
       "    .dataframe thead th {\n",
       "        text-align: left;\n",
       "    }\n",
       "\n",
       "    .dataframe tbody tr th {\n",
       "        vertical-align: top;\n",
       "    }\n",
       "</style>\n",
       "<table border=\"1\" class=\"dataframe\">\n",
       "  <thead>\n",
       "    <tr style=\"text-align: right;\">\n",
       "      <th>ISBN</th>\n",
       "      <th>0312195516</th>\n",
       "      <th>0316666343</th>\n",
       "      <th>0345337662</th>\n",
       "      <th>0375727345</th>\n",
       "    </tr>\n",
       "    <tr>\n",
       "      <th>User-ID</th>\n",
       "      <th></th>\n",
       "      <th></th>\n",
       "      <th></th>\n",
       "      <th></th>\n",
       "    </tr>\n",
       "  </thead>\n",
       "  <tbody>\n",
       "    <tr>\n",
       "      <th>100471</th>\n",
       "      <td>0.0</td>\n",
       "      <td>0.0</td>\n",
       "      <td>0.0</td>\n",
       "      <td>8.0</td>\n",
       "    </tr>\n",
       "    <tr>\n",
       "      <th>100781</th>\n",
       "      <td>0.0</td>\n",
       "      <td>10.0</td>\n",
       "      <td>0.0</td>\n",
       "      <td>0.0</td>\n",
       "    </tr>\n",
       "    <tr>\n",
       "      <th>101154</th>\n",
       "      <td>8.0</td>\n",
       "      <td>0.0</td>\n",
       "      <td>0.0</td>\n",
       "      <td>0.0</td>\n",
       "    </tr>\n",
       "    <tr>\n",
       "      <th>103734</th>\n",
       "      <td>0.0</td>\n",
       "      <td>7.0</td>\n",
       "      <td>0.0</td>\n",
       "      <td>0.0</td>\n",
       "    </tr>\n",
       "    <tr>\n",
       "      <th>103835</th>\n",
       "      <td>0.0</td>\n",
       "      <td>6.0</td>\n",
       "      <td>0.0</td>\n",
       "      <td>0.0</td>\n",
       "    </tr>\n",
       "    <tr>\n",
       "      <th>103876</th>\n",
       "      <td>7.0</td>\n",
       "      <td>0.0</td>\n",
       "      <td>0.0</td>\n",
       "      <td>0.0</td>\n",
       "    </tr>\n",
       "    <tr>\n",
       "      <th>104880</th>\n",
       "      <td>0.0</td>\n",
       "      <td>8.0</td>\n",
       "      <td>0.0</td>\n",
       "      <td>0.0</td>\n",
       "    </tr>\n",
       "    <tr>\n",
       "      <th>106225</th>\n",
       "      <td>0.0</td>\n",
       "      <td>8.0</td>\n",
       "      <td>0.0</td>\n",
       "      <td>0.0</td>\n",
       "    </tr>\n",
       "    <tr>\n",
       "      <th>106412</th>\n",
       "      <td>0.0</td>\n",
       "      <td>9.0</td>\n",
       "      <td>0.0</td>\n",
       "      <td>0.0</td>\n",
       "    </tr>\n",
       "    <tr>\n",
       "      <th>106846</th>\n",
       "      <td>0.0</td>\n",
       "      <td>6.0</td>\n",
       "      <td>0.0</td>\n",
       "      <td>0.0</td>\n",
       "    </tr>\n",
       "  </tbody>\n",
       "</table>\n",
       "</div>"
      ],
      "text/plain": [
       "ISBN     0312195516  0316666343  0345337662  0375727345\n",
       "User-ID                                                \n",
       "100471          0.0         0.0         0.0         8.0\n",
       "100781          0.0        10.0         0.0         0.0\n",
       "101154          8.0         0.0         0.0         0.0\n",
       "103734          0.0         7.0         0.0         0.0\n",
       "103835          0.0         6.0         0.0         0.0\n",
       "103876          7.0         0.0         0.0         0.0\n",
       "104880          0.0         8.0         0.0         0.0\n",
       "106225          0.0         8.0         0.0         0.0\n",
       "106412          0.0         9.0         0.0         0.0\n",
       "106846          0.0         6.0         0.0         0.0"
      ]
     },
     "execution_count": 127,
     "metadata": {},
     "output_type": "execute_result"
    }
   ],
   "source": [
    "# evaluate the prediction accuracy in the test dataset\n",
    "test_matrix.head(10)"
   ]
  },
  {
   "cell_type": "code",
   "execution_count": 128,
   "metadata": {},
   "outputs": [
    {
     "name": "stdout",
     "output_type": "stream",
     "text": [
      "<class 'pandas.core.frame.DataFrame'>\n",
      "Index: 494 entries, 100471 to 99997\n",
      "Data columns (total 4 columns):\n",
      "0312195516    494 non-null float64\n",
      "0316666343    494 non-null float64\n",
      "0345337662    494 non-null float64\n",
      "0375727345    494 non-null float64\n",
      "dtypes: float64(4)\n",
      "memory usage: 39.3+ KB\n"
     ]
    }
   ],
   "source": [
    "test_matrix.info()"
   ]
  },
  {
   "cell_type": "code",
   "execution_count": 132,
   "metadata": {},
   "outputs": [
    {
     "data": {
      "text/html": [
       "<div>\n",
       "<style>\n",
       "    .dataframe thead tr:only-child th {\n",
       "        text-align: right;\n",
       "    }\n",
       "\n",
       "    .dataframe thead th {\n",
       "        text-align: left;\n",
       "    }\n",
       "\n",
       "    .dataframe tbody tr th {\n",
       "        vertical-align: top;\n",
       "    }\n",
       "</style>\n",
       "<table border=\"1\" class=\"dataframe\">\n",
       "  <thead>\n",
       "    <tr style=\"text-align: right;\">\n",
       "      <th>ISBN</th>\n",
       "      <th>0312195516</th>\n",
       "      <th>0316666343</th>\n",
       "      <th>0345337662</th>\n",
       "      <th>0375727345</th>\n",
       "    </tr>\n",
       "    <tr>\n",
       "      <th>User-ID</th>\n",
       "      <th></th>\n",
       "      <th></th>\n",
       "      <th></th>\n",
       "      <th></th>\n",
       "    </tr>\n",
       "  </thead>\n",
       "  <tbody>\n",
       "    <tr>\n",
       "      <th>100471</th>\n",
       "      <td>NaN</td>\n",
       "      <td>NaN</td>\n",
       "      <td>NaN</td>\n",
       "      <td>8.0</td>\n",
       "    </tr>\n",
       "    <tr>\n",
       "      <th>100781</th>\n",
       "      <td>NaN</td>\n",
       "      <td>10.0</td>\n",
       "      <td>NaN</td>\n",
       "      <td>NaN</td>\n",
       "    </tr>\n",
       "    <tr>\n",
       "      <th>101154</th>\n",
       "      <td>8.0</td>\n",
       "      <td>NaN</td>\n",
       "      <td>NaN</td>\n",
       "      <td>NaN</td>\n",
       "    </tr>\n",
       "    <tr>\n",
       "      <th>103734</th>\n",
       "      <td>NaN</td>\n",
       "      <td>7.0</td>\n",
       "      <td>NaN</td>\n",
       "      <td>NaN</td>\n",
       "    </tr>\n",
       "    <tr>\n",
       "      <th>103835</th>\n",
       "      <td>NaN</td>\n",
       "      <td>6.0</td>\n",
       "      <td>NaN</td>\n",
       "      <td>NaN</td>\n",
       "    </tr>\n",
       "  </tbody>\n",
       "</table>\n",
       "</div>"
      ],
      "text/plain": [
       "ISBN     0312195516  0316666343  0345337662  0375727345\n",
       "User-ID                                                \n",
       "100471          NaN         NaN         NaN         8.0\n",
       "100781          NaN        10.0         NaN         NaN\n",
       "101154          8.0         NaN         NaN         NaN\n",
       "103734          NaN         7.0         NaN         NaN\n",
       "103835          NaN         6.0         NaN         NaN"
      ]
     },
     "execution_count": 132,
     "metadata": {},
     "output_type": "execute_result"
    }
   ],
   "source": [
    "test_matrix = test_matrix.replace(0, np.NaN)\n",
    "test_matrix = test_matrix.dropna(how='all')\n",
    "test_matrix = test_matrix.dropna(how='all',axis=1)\n",
    "test_matrix.head(5)"
   ]
  },
  {
   "cell_type": "code",
   "execution_count": 133,
   "metadata": {},
   "outputs": [
    {
     "data": {
      "text/plain": [
       "User-ID\n",
       "100471    0.212221\n",
       "100781    2.212221\n",
       "101154    0.212221\n",
       "103734   -0.787779\n",
       "103835   -1.787779\n",
       "103876   -0.787779\n",
       "104880    0.212221\n",
       "106225    0.212221\n",
       "106412    1.212221\n",
       "106846   -1.787779\n",
       "106874    2.212221\n",
       "1075     -0.787779\n",
       "108158    1.212221\n",
       "108405    1.212221\n",
       "109122    2.212221\n",
       "110165    1.212221\n",
       "110695    1.212221\n",
       "111136    1.212221\n",
       "111199   -0.787779\n",
       "112345   -0.787779\n",
       "112977   -0.787779\n",
       "113270    1.212221\n",
       "113519    1.212221\n",
       "113680   -2.787779\n",
       "113989    0.212221\n",
       "113992   -2.787779\n",
       "114368   -2.787779\n",
       "114389   -0.787779\n",
       "114813    1.212221\n",
       "115003    0.212221\n",
       "            ...   \n",
       "78448     1.212221\n",
       "80084     1.212221\n",
       "80497     0.212221\n",
       "80538     0.212221\n",
       "80945     1.212221\n",
       "81215    -2.787779\n",
       "81263     1.212221\n",
       "81318    -5.787779\n",
       "81977    -0.787779\n",
       "8253      2.212221\n",
       "82563     2.212221\n",
       "82797     2.212221\n",
       "82888     2.212221\n",
       "85526     0.212221\n",
       "88229     2.212221\n",
       "88937    -0.787779\n",
       "90763     2.212221\n",
       "91103     1.212221\n",
       "92566     0.212221\n",
       "92964     1.212221\n",
       "93046    -1.787779\n",
       "93800    -1.787779\n",
       "94347     1.212221\n",
       "94639     1.212221\n",
       "9486      2.212221\n",
       "95359    -0.121113\n",
       "96667    -2.787779\n",
       "97874     1.212221\n",
       "98391     1.212221\n",
       "99997     1.212221\n",
       "Length: 494, dtype: float64"
      ]
     },
     "execution_count": 133,
     "metadata": {},
     "output_type": "execute_result"
    }
   ],
   "source": [
    "user_bias_te = test_matrix.mean(axis=1)-raw_avg\n",
    "user_bias_te"
   ]
  },
  {
   "cell_type": "code",
   "execution_count": 134,
   "metadata": {},
   "outputs": [
    {
     "data": {
      "text/plain": [
       "ISBN\n",
       "0312195516    0.221070\n",
       "0316666343    0.472409\n",
       "0345337662   -0.537779\n",
       "0375727345   -0.376821\n",
       "dtype: float64"
      ]
     },
     "execution_count": 134,
     "metadata": {},
     "output_type": "execute_result"
    }
   ],
   "source": [
    "book_bias_te = test_matrix.mean(axis=0)-raw_avg\n",
    "book_bias_te"
   ]
  },
  {
   "cell_type": "code",
   "execution_count": 135,
   "metadata": {
    "collapsed": true
   },
   "outputs": [],
   "source": [
    "# first create an empty DataFrame for test dataset predictor:\n",
    "predictor_matrix_te = pd.DataFrame(index=test_matrix.index, columns=book_bias_te.index)\n",
    "predictor_matrix_te = predictor_matrix_te.fillna(0) # with 0s rather than NaNs "
   ]
  },
  {
   "cell_type": "code",
   "execution_count": 136,
   "metadata": {},
   "outputs": [
    {
     "data": {
      "text/html": [
       "<div>\n",
       "<style>\n",
       "    .dataframe thead tr:only-child th {\n",
       "        text-align: right;\n",
       "    }\n",
       "\n",
       "    .dataframe thead th {\n",
       "        text-align: left;\n",
       "    }\n",
       "\n",
       "    .dataframe tbody tr th {\n",
       "        vertical-align: top;\n",
       "    }\n",
       "</style>\n",
       "<table border=\"1\" class=\"dataframe\">\n",
       "  <thead>\n",
       "    <tr style=\"text-align: right;\">\n",
       "      <th>ISBN</th>\n",
       "      <th>0312195516</th>\n",
       "      <th>0316666343</th>\n",
       "      <th>0345337662</th>\n",
       "      <th>0375727345</th>\n",
       "    </tr>\n",
       "    <tr>\n",
       "      <th>User-ID</th>\n",
       "      <th></th>\n",
       "      <th></th>\n",
       "      <th></th>\n",
       "      <th></th>\n",
       "    </tr>\n",
       "  </thead>\n",
       "  <tbody>\n",
       "    <tr>\n",
       "      <th>100471</th>\n",
       "      <td>8.22107</td>\n",
       "      <td>8.472409</td>\n",
       "      <td>7.462221</td>\n",
       "      <td>7.623179</td>\n",
       "    </tr>\n",
       "    <tr>\n",
       "      <th>100781</th>\n",
       "      <td>10.22107</td>\n",
       "      <td>10.472409</td>\n",
       "      <td>9.462221</td>\n",
       "      <td>9.623179</td>\n",
       "    </tr>\n",
       "    <tr>\n",
       "      <th>101154</th>\n",
       "      <td>8.22107</td>\n",
       "      <td>8.472409</td>\n",
       "      <td>7.462221</td>\n",
       "      <td>7.623179</td>\n",
       "    </tr>\n",
       "    <tr>\n",
       "      <th>103734</th>\n",
       "      <td>7.22107</td>\n",
       "      <td>7.472409</td>\n",
       "      <td>6.462221</td>\n",
       "      <td>6.623179</td>\n",
       "    </tr>\n",
       "    <tr>\n",
       "      <th>103835</th>\n",
       "      <td>6.22107</td>\n",
       "      <td>6.472409</td>\n",
       "      <td>5.462221</td>\n",
       "      <td>5.623179</td>\n",
       "    </tr>\n",
       "  </tbody>\n",
       "</table>\n",
       "</div>"
      ],
      "text/plain": [
       "ISBN     0312195516  0316666343  0345337662  0375727345\n",
       "User-ID                                                \n",
       "100471      8.22107    8.472409    7.462221    7.623179\n",
       "100781     10.22107   10.472409    9.462221    9.623179\n",
       "101154      8.22107    8.472409    7.462221    7.623179\n",
       "103734      7.22107    7.472409    6.462221    6.623179\n",
       "103835      6.22107    6.472409    5.462221    5.623179"
      ]
     },
     "execution_count": 136,
     "metadata": {},
     "output_type": "execute_result"
    }
   ],
   "source": [
    "# baseline predictor for test dataset\n",
    "for r in range(test_matrix.shape[0]):\n",
    "    for c in range(test_matrix.shape[1]):\n",
    "        predictor_matrix_te.iloc[r,c] = raw_avg + user_bias_te[r] + book_bias_te[c]\n",
    "predictor_matrix_te.head(5)"
   ]
  },
  {
   "cell_type": "code",
   "execution_count": 137,
   "metadata": {},
   "outputs": [
    {
     "data": {
      "text/html": [
       "<div>\n",
       "<style>\n",
       "    .dataframe thead tr:only-child th {\n",
       "        text-align: right;\n",
       "    }\n",
       "\n",
       "    .dataframe thead th {\n",
       "        text-align: left;\n",
       "    }\n",
       "\n",
       "    .dataframe tbody tr th {\n",
       "        vertical-align: top;\n",
       "    }\n",
       "</style>\n",
       "<table border=\"1\" class=\"dataframe\">\n",
       "  <thead>\n",
       "    <tr style=\"text-align: right;\">\n",
       "      <th>ISBN</th>\n",
       "      <th>0312195516</th>\n",
       "      <th>0316666343</th>\n",
       "      <th>0345337662</th>\n",
       "      <th>0375727345</th>\n",
       "    </tr>\n",
       "    <tr>\n",
       "      <th>User-ID</th>\n",
       "      <th></th>\n",
       "      <th></th>\n",
       "      <th></th>\n",
       "      <th></th>\n",
       "    </tr>\n",
       "  </thead>\n",
       "  <tbody>\n",
       "    <tr>\n",
       "      <th>100471</th>\n",
       "      <td>8.22107</td>\n",
       "      <td>8.472409</td>\n",
       "      <td>7.462221</td>\n",
       "      <td>7.623179</td>\n",
       "    </tr>\n",
       "    <tr>\n",
       "      <th>100781</th>\n",
       "      <td>10.00000</td>\n",
       "      <td>10.000000</td>\n",
       "      <td>9.462221</td>\n",
       "      <td>9.623179</td>\n",
       "    </tr>\n",
       "    <tr>\n",
       "      <th>101154</th>\n",
       "      <td>8.22107</td>\n",
       "      <td>8.472409</td>\n",
       "      <td>7.462221</td>\n",
       "      <td>7.623179</td>\n",
       "    </tr>\n",
       "    <tr>\n",
       "      <th>103734</th>\n",
       "      <td>7.22107</td>\n",
       "      <td>7.472409</td>\n",
       "      <td>6.462221</td>\n",
       "      <td>6.623179</td>\n",
       "    </tr>\n",
       "    <tr>\n",
       "      <th>103835</th>\n",
       "      <td>6.22107</td>\n",
       "      <td>6.472409</td>\n",
       "      <td>5.462221</td>\n",
       "      <td>5.623179</td>\n",
       "    </tr>\n",
       "  </tbody>\n",
       "</table>\n",
       "</div>"
      ],
      "text/plain": [
       "ISBN     0312195516  0316666343  0345337662  0375727345\n",
       "User-ID                                                \n",
       "100471      8.22107    8.472409    7.462221    7.623179\n",
       "100781     10.00000   10.000000    9.462221    9.623179\n",
       "101154      8.22107    8.472409    7.462221    7.623179\n",
       "103734      7.22107    7.472409    6.462221    6.623179\n",
       "103835      6.22107    6.472409    5.462221    5.623179"
      ]
     },
     "execution_count": 137,
     "metadata": {},
     "output_type": "execute_result"
    }
   ],
   "source": [
    "predictor_matrix_te[predictor_matrix_te >10] = 10\n",
    "predictor_matrix_te[predictor_matrix_te <1] = 1\n",
    "predictor_matrix_te.head(5)"
   ]
  },
  {
   "cell_type": "code",
   "execution_count": null,
   "metadata": {
    "collapsed": true
   },
   "outputs": [],
   "source": [
    "improve_test = 1- (rmse_2_test/rmse_1_test)\n",
    "improve_test = \"{0:.0f}%\".format(abs(improve_test)*100)\n",
    "print('baseline predictor improved RMSE by', improve_test, 'for testing dataset:')"
   ]
  },
  {
   "cell_type": "code",
   "execution_count": 140,
   "metadata": {},
   "outputs": [
    {
     "data": {
      "text/plain": [
       "4110.0"
      ]
     },
     "execution_count": 140,
     "metadata": {},
     "output_type": "execute_result"
    }
   ],
   "source": [
    "count_non_zero_te = test_matrix.sum()\n",
    "count_non_zero_te = count_non_zero_te.sum()\n",
    "count_non_zero_te"
   ]
  },
  {
   "cell_type": "code",
   "execution_count": 141,
   "metadata": {},
   "outputs": [
    {
     "name": "stdout",
     "output_type": "stream",
     "text": [
      "RMSE of baseline predictor for testing dataset : 0.15681359996270988\n"
     ]
    }
   ],
   "source": [
    "#RMSE\n",
    "test_matrix = test_matrix.fillna(0)\n",
    "se_te = 0\n",
    "for r in range(test_matrix.shape[0]):\n",
    "    for c in range(test_matrix.shape[1]):\n",
    "        if test_matrix.iloc[r,c] != 0:\n",
    "            se_te= se_te + (test_matrix.iloc[r,c]- predictor_matrix_te.iloc[r,c])**2\n",
    "\n",
    "mse_te = se_te/count_non_zero_te\n",
    "rmse_2_test= sqrt(mse_te)\n",
    "print('RMSE of baseline predictor for testing dataset :', rmse_2_test)"
   ]
  },
  {
   "cell_type": "code",
   "execution_count": 142,
   "metadata": {},
   "outputs": [
    {
     "name": "stdout",
     "output_type": "stream",
     "text": [
      "baseline predictor improved RMSE by 85% for testing dataset:\n"
     ]
    }
   ],
   "source": [
    "improve_test = 1- (rmse_2_test/rmse_1_test)\n",
    "improve_test = \"{0:.0f}%\".format(abs(improve_test)*100)\n",
    "print('baseline predictor improved RMSE by', improve_test, 'for testing dataset:')"
   ]
  },
  {
   "cell_type": "markdown",
   "metadata": {},
   "source": [
    "**2.7 Calculate the RMSE for the neighborhood predictors for both the training data and your test data.**\n",
    "\n",
    "**2.7.1 Calculate the baseline error based on train dataset."
   ]
  },
  {
   "cell_type": "code",
   "execution_count": 145,
   "metadata": {},
   "outputs": [
    {
     "data": {
      "text/html": [
       "<div>\n",
       "<style>\n",
       "    .dataframe thead tr:only-child th {\n",
       "        text-align: right;\n",
       "    }\n",
       "\n",
       "    .dataframe thead th {\n",
       "        text-align: left;\n",
       "    }\n",
       "\n",
       "    .dataframe tbody tr th {\n",
       "        vertical-align: top;\n",
       "    }\n",
       "</style>\n",
       "<table border=\"1\" class=\"dataframe\">\n",
       "  <thead>\n",
       "    <tr style=\"text-align: right;\">\n",
       "      <th>ISBN</th>\n",
       "      <th>0312195516</th>\n",
       "      <th>0316666343</th>\n",
       "      <th>0345337662</th>\n",
       "      <th>0375727345</th>\n",
       "    </tr>\n",
       "    <tr>\n",
       "      <th>User-ID</th>\n",
       "      <th></th>\n",
       "      <th></th>\n",
       "      <th></th>\n",
       "      <th></th>\n",
       "    </tr>\n",
       "  </thead>\n",
       "  <tbody>\n",
       "    <tr>\n",
       "      <th>100043</th>\n",
       "      <td>NaN</td>\n",
       "      <td>NaN</td>\n",
       "      <td>NaN</td>\n",
       "      <td>0.484297</td>\n",
       "    </tr>\n",
       "    <tr>\n",
       "      <th>100251</th>\n",
       "      <td>NaN</td>\n",
       "      <td>NaN</td>\n",
       "      <td>0.039241</td>\n",
       "      <td>NaN</td>\n",
       "    </tr>\n",
       "    <tr>\n",
       "      <th>100343</th>\n",
       "      <td>NaN</td>\n",
       "      <td>-0.384416</td>\n",
       "      <td>NaN</td>\n",
       "      <td>NaN</td>\n",
       "    </tr>\n",
       "    <tr>\n",
       "      <th>100459</th>\n",
       "      <td>NaN</td>\n",
       "      <td>NaN</td>\n",
       "      <td>NaN</td>\n",
       "      <td>0.484297</td>\n",
       "    </tr>\n",
       "    <tr>\n",
       "      <th>100471</th>\n",
       "      <td>NaN</td>\n",
       "      <td>NaN</td>\n",
       "      <td>NaN</td>\n",
       "      <td>0.484297</td>\n",
       "    </tr>\n",
       "    <tr>\n",
       "      <th>100781</th>\n",
       "      <td>NaN</td>\n",
       "      <td>0.000000</td>\n",
       "      <td>NaN</td>\n",
       "      <td>NaN</td>\n",
       "    </tr>\n",
       "    <tr>\n",
       "      <th>1008</th>\n",
       "      <td>-0.379868</td>\n",
       "      <td>NaN</td>\n",
       "      <td>NaN</td>\n",
       "      <td>NaN</td>\n",
       "    </tr>\n",
       "    <tr>\n",
       "      <th>10112</th>\n",
       "      <td>NaN</td>\n",
       "      <td>NaN</td>\n",
       "      <td>0.039241</td>\n",
       "      <td>NaN</td>\n",
       "    </tr>\n",
       "    <tr>\n",
       "      <th>101154</th>\n",
       "      <td>-0.379868</td>\n",
       "      <td>NaN</td>\n",
       "      <td>NaN</td>\n",
       "      <td>NaN</td>\n",
       "    </tr>\n",
       "    <tr>\n",
       "      <th>101305</th>\n",
       "      <td>-0.379868</td>\n",
       "      <td>NaN</td>\n",
       "      <td>NaN</td>\n",
       "      <td>NaN</td>\n",
       "    </tr>\n",
       "  </tbody>\n",
       "</table>\n",
       "</div>"
      ],
      "text/plain": [
       "ISBN     0312195516  0316666343  0345337662  0375727345\n",
       "User-ID                                                \n",
       "100043          NaN         NaN         NaN    0.484297\n",
       "100251          NaN         NaN    0.039241         NaN\n",
       "100343          NaN   -0.384416         NaN         NaN\n",
       "100459          NaN         NaN         NaN    0.484297\n",
       "100471          NaN         NaN         NaN    0.484297\n",
       "100781          NaN    0.000000         NaN         NaN\n",
       "1008      -0.379868         NaN         NaN         NaN\n",
       "10112           NaN         NaN    0.039241         NaN\n",
       "101154    -0.379868         NaN         NaN         NaN\n",
       "101305    -0.379868         NaN         NaN         NaN"
      ]
     },
     "execution_count": 145,
     "metadata": {},
     "output_type": "execute_result"
    }
   ],
   "source": [
    "# baseline errors which are based on train set\n",
    "train_matrix = train_matrix.replace(0, np.NaN)\n",
    "train_error = train_matrix - predictor_matrix\n",
    "train_error.head(10)"
   ]
  },
  {
   "cell_type": "code",
   "execution_count": 146,
   "metadata": {},
   "outputs": [
    {
     "data": {
      "text/plain": [
       "(1288, 4)"
      ]
     },
     "execution_count": 146,
     "metadata": {},
     "output_type": "execute_result"
    }
   ],
   "source": [
    "train_error.shape"
   ]
  },
  {
   "cell_type": "markdown",
   "metadata": {},
   "source": [
    "**2.7.2 Calculate the consine similarity between books based on baseline error derived from train dataset.**"
   ]
  },
  {
   "cell_type": "code",
   "execution_count": 147,
   "metadata": {
    "collapsed": true
   },
   "outputs": [],
   "source": [
    "# consine sililarity of training dataset \n",
    "# first create an empty DataFrame:\n",
    "sim_1 = pd.DataFrame(index=book_bias.index, columns=book_bias.index)\n",
    "sim_1 = sim_1.fillna(0) # with 0s rather than NaNs "
   ]
  },
  {
   "cell_type": "code",
   "execution_count": 148,
   "metadata": {
    "collapsed": true
   },
   "outputs": [],
   "source": [
    "train_error = pd.DataFrame(train_error)\n",
    "sim_1 = pd.DataFrame(sim_1)"
   ]
  },
  {
   "cell_type": "code",
   "execution_count": 149,
   "metadata": {
    "collapsed": true
   },
   "outputs": [],
   "source": [
    "train_error = train_error.fillna(0)"
   ]
  },
  {
   "cell_type": "code",
   "execution_count": 150,
   "metadata": {},
   "outputs": [
    {
     "data": {
      "text/html": [
       "<div>\n",
       "<style>\n",
       "    .dataframe thead tr:only-child th {\n",
       "        text-align: right;\n",
       "    }\n",
       "\n",
       "    .dataframe thead th {\n",
       "        text-align: left;\n",
       "    }\n",
       "\n",
       "    .dataframe tbody tr th {\n",
       "        vertical-align: top;\n",
       "    }\n",
       "</style>\n",
       "<table border=\"1\" class=\"dataframe\">\n",
       "  <thead>\n",
       "    <tr style=\"text-align: right;\">\n",
       "      <th>ISBN</th>\n",
       "      <th>0312195516</th>\n",
       "      <th>0316666343</th>\n",
       "      <th>0345337662</th>\n",
       "      <th>0375727345</th>\n",
       "    </tr>\n",
       "    <tr>\n",
       "      <th>ISBN</th>\n",
       "      <th></th>\n",
       "      <th></th>\n",
       "      <th></th>\n",
       "      <th></th>\n",
       "    </tr>\n",
       "  </thead>\n",
       "  <tbody>\n",
       "    <tr>\n",
       "      <th>0312195516</th>\n",
       "      <td>1.000000</td>\n",
       "      <td>-0.282398</td>\n",
       "      <td>-0.164486</td>\n",
       "      <td>-0.095207</td>\n",
       "    </tr>\n",
       "    <tr>\n",
       "      <th>0316666343</th>\n",
       "      <td>-0.282398</td>\n",
       "      <td>1.000000</td>\n",
       "      <td>-0.109992</td>\n",
       "      <td>-0.152710</td>\n",
       "    </tr>\n",
       "    <tr>\n",
       "      <th>0345337662</th>\n",
       "      <td>-0.164486</td>\n",
       "      <td>-0.109992</td>\n",
       "      <td>1.000000</td>\n",
       "      <td>-0.017150</td>\n",
       "    </tr>\n",
       "    <tr>\n",
       "      <th>0375727345</th>\n",
       "      <td>-0.095207</td>\n",
       "      <td>-0.152710</td>\n",
       "      <td>-0.017150</td>\n",
       "      <td>1.000000</td>\n",
       "    </tr>\n",
       "  </tbody>\n",
       "</table>\n",
       "</div>"
      ],
      "text/plain": [
       "ISBN        0312195516  0316666343  0345337662  0375727345\n",
       "ISBN                                                      \n",
       "0312195516    1.000000   -0.282398   -0.164486   -0.095207\n",
       "0316666343   -0.282398    1.000000   -0.109992   -0.152710\n",
       "0345337662   -0.164486   -0.109992    1.000000   -0.017150\n",
       "0375727345   -0.095207   -0.152710   -0.017150    1.000000"
      ]
     },
     "execution_count": 150,
     "metadata": {},
     "output_type": "execute_result"
    }
   ],
   "source": [
    "from scipy.spatial.distance import cosine\n",
    "for r in range(sim_1.shape[1]):\n",
    "    for c in range(sim_1.shape[1]):\n",
    "        sim_1.iloc[r,c] = 1- cosine(train_error.iloc[:,r], train_error.iloc[:,c])\n",
    "sim_1.columns = book_bias.index\n",
    "sim_1"
   ]
  },
  {
   "cell_type": "code",
   "execution_count": 151,
   "metadata": {
    "collapsed": true
   },
   "outputs": [],
   "source": [
    "# try a different mathod to calculate cosine similarity\n",
    "from sklearn.metrics import pairwise_distances"
   ]
  },
  {
   "cell_type": "code",
   "execution_count": 152,
   "metadata": {},
   "outputs": [
    {
     "data": {
      "text/html": [
       "<div>\n",
       "<style>\n",
       "    .dataframe thead tr:only-child th {\n",
       "        text-align: right;\n",
       "    }\n",
       "\n",
       "    .dataframe thead th {\n",
       "        text-align: left;\n",
       "    }\n",
       "\n",
       "    .dataframe tbody tr th {\n",
       "        vertical-align: top;\n",
       "    }\n",
       "</style>\n",
       "<table border=\"1\" class=\"dataframe\">\n",
       "  <thead>\n",
       "    <tr style=\"text-align: right;\">\n",
       "      <th>ISBN</th>\n",
       "      <th>0312195516</th>\n",
       "      <th>0316666343</th>\n",
       "      <th>0345337662</th>\n",
       "      <th>0375727345</th>\n",
       "    </tr>\n",
       "    <tr>\n",
       "      <th>ISBN</th>\n",
       "      <th></th>\n",
       "      <th></th>\n",
       "      <th></th>\n",
       "      <th></th>\n",
       "    </tr>\n",
       "  </thead>\n",
       "  <tbody>\n",
       "    <tr>\n",
       "      <th>0312195516</th>\n",
       "      <td>1.000000</td>\n",
       "      <td>-0.282398</td>\n",
       "      <td>-0.164486</td>\n",
       "      <td>-0.095207</td>\n",
       "    </tr>\n",
       "    <tr>\n",
       "      <th>0316666343</th>\n",
       "      <td>-0.282398</td>\n",
       "      <td>1.000000</td>\n",
       "      <td>-0.109992</td>\n",
       "      <td>-0.152710</td>\n",
       "    </tr>\n",
       "    <tr>\n",
       "      <th>0345337662</th>\n",
       "      <td>-0.164486</td>\n",
       "      <td>-0.109992</td>\n",
       "      <td>1.000000</td>\n",
       "      <td>-0.017150</td>\n",
       "    </tr>\n",
       "    <tr>\n",
       "      <th>0375727345</th>\n",
       "      <td>-0.095207</td>\n",
       "      <td>-0.152710</td>\n",
       "      <td>-0.017150</td>\n",
       "      <td>1.000000</td>\n",
       "    </tr>\n",
       "  </tbody>\n",
       "</table>\n",
       "</div>"
      ],
      "text/plain": [
       "ISBN        0312195516  0316666343  0345337662  0375727345\n",
       "ISBN                                                      \n",
       "0312195516    1.000000   -0.282398   -0.164486   -0.095207\n",
       "0316666343   -0.282398    1.000000   -0.109992   -0.152710\n",
       "0345337662   -0.164486   -0.109992    1.000000   -0.017150\n",
       "0375727345   -0.095207   -0.152710   -0.017150    1.000000"
      ]
     },
     "execution_count": 152,
     "metadata": {},
     "output_type": "execute_result"
    }
   ],
   "source": [
    "sim_2 = 1- pairwise_distances(train_error.T,  metric=\"cosine\")\n",
    "sim_2 = pd.DataFrame(sim_2)\n",
    "sim_2.columns = book_bias.index\n",
    "sim_2.index = book_bias.index\n",
    "sim_2"
   ]
  },
  {
   "cell_type": "markdown",
   "metadata": {
    "collapsed": true
   },
   "source": [
    "**the results of the baseline error from two differnt methods are the same.**"
   ]
  },
  {
   "cell_type": "code",
   "execution_count": 153,
   "metadata": {},
   "outputs": [
    {
     "data": {
      "text/plain": [
       "ISBN\n",
       "0312195516    0316666343\n",
       "0316666343    0312195516\n",
       "0345337662    0312195516\n",
       "0375727345    0316666343\n",
       "dtype: object"
      ]
     },
     "execution_count": 153,
     "metadata": {},
     "output_type": "execute_result"
    }
   ],
   "source": [
    "# neighbourhood baseline error\n",
    "neighbour = Series(index=book_bias.index)\n",
    "neighbour = neighbour.fillna('A')\n",
    "for c in range(sim_1.shape[1]):\n",
    "    neighbour[c]= sim_1.iloc[:,c].argmin()\n",
    "neighbour"
   ]
  },
  {
   "cell_type": "code",
   "execution_count": 154,
   "metadata": {},
   "outputs": [
    {
     "name": "stdout",
     "output_type": "stream",
     "text": [
      "The neighbour of 0312195516 is 0316666343\n",
      "The neighbour of 0316666343 is 0312195516\n",
      "The neighbour of 0345337662 is 0312195516\n",
      "The neighbour of 0375727345 is 0316666343\n"
     ]
    }
   ],
   "source": [
    "for c in range(sim_1.shape[1]):\n",
    "    print('The neighbour of',sim_1.columns[c],'is',neighbour[c])"
   ]
  },
  {
   "cell_type": "code",
   "execution_count": 155,
   "metadata": {},
   "outputs": [
    {
     "data": {
      "text/plain": [
       "ISBN\n",
       "0312195516   -0.282398\n",
       "0316666343   -0.282398\n",
       "0345337662   -0.164486\n",
       "0375727345   -0.152710\n",
       "dtype: float64"
      ]
     },
     "execution_count": 155,
     "metadata": {},
     "output_type": "execute_result"
    }
   ],
   "source": [
    "# create empty Serie\n",
    "neighbour_baseline_error = Series(index=book_bias.index)\n",
    "neighbour_baseline_error = neighbour_baseline_error.fillna(0)\n",
    "\n",
    "# find the closest neighbour with the maximum absolute error value\n",
    "for i in range(book_bias.shape[0]):\n",
    "    neighbour_baseline_error[i] = sim_1.iloc[:,i].min()\n",
    "    \n",
    "neighbour_baseline_error"
   ]
  },
  {
   "cell_type": "code",
   "execution_count": 156,
   "metadata": {},
   "outputs": [
    {
     "data": {
      "text/html": [
       "<div>\n",
       "<style>\n",
       "    .dataframe thead tr:only-child th {\n",
       "        text-align: right;\n",
       "    }\n",
       "\n",
       "    .dataframe thead th {\n",
       "        text-align: left;\n",
       "    }\n",
       "\n",
       "    .dataframe tbody tr th {\n",
       "        vertical-align: top;\n",
       "    }\n",
       "</style>\n",
       "<table border=\"1\" class=\"dataframe\">\n",
       "  <thead>\n",
       "    <tr style=\"text-align: right;\">\n",
       "      <th>ISBN</th>\n",
       "      <th>0312195516</th>\n",
       "      <th>0316666343</th>\n",
       "      <th>0345337662</th>\n",
       "      <th>0375727345</th>\n",
       "    </tr>\n",
       "    <tr>\n",
       "      <th>User-ID</th>\n",
       "      <th></th>\n",
       "      <th></th>\n",
       "      <th></th>\n",
       "      <th></th>\n",
       "    </tr>\n",
       "  </thead>\n",
       "  <tbody>\n",
       "    <tr>\n",
       "      <th>100043</th>\n",
       "      <td>8.097469</td>\n",
       "      <td>8.102018</td>\n",
       "      <td>7.796272</td>\n",
       "      <td>7.362993</td>\n",
       "    </tr>\n",
       "    <tr>\n",
       "      <th>100251</th>\n",
       "      <td>5.097469</td>\n",
       "      <td>5.102018</td>\n",
       "      <td>4.796272</td>\n",
       "      <td>4.362993</td>\n",
       "    </tr>\n",
       "    <tr>\n",
       "      <th>100343</th>\n",
       "      <td>3.097469</td>\n",
       "      <td>3.102018</td>\n",
       "      <td>2.796272</td>\n",
       "      <td>2.362993</td>\n",
       "    </tr>\n",
       "    <tr>\n",
       "      <th>100459</th>\n",
       "      <td>8.097469</td>\n",
       "      <td>8.102018</td>\n",
       "      <td>7.796272</td>\n",
       "      <td>7.362993</td>\n",
       "    </tr>\n",
       "    <tr>\n",
       "      <th>100471</th>\n",
       "      <td>8.097469</td>\n",
       "      <td>8.102018</td>\n",
       "      <td>7.796272</td>\n",
       "      <td>7.362993</td>\n",
       "    </tr>\n",
       "  </tbody>\n",
       "</table>\n",
       "</div>"
      ],
      "text/plain": [
       "ISBN     0312195516  0316666343  0345337662  0375727345\n",
       "User-ID                                                \n",
       "100043     8.097469    8.102018    7.796272    7.362993\n",
       "100251     5.097469    5.102018    4.796272    4.362993\n",
       "100343     3.097469    3.102018    2.796272    2.362993\n",
       "100459     8.097469    8.102018    7.796272    7.362993\n",
       "100471     8.097469    8.102018    7.796272    7.362993"
      ]
     },
     "execution_count": 156,
     "metadata": {},
     "output_type": "execute_result"
    }
   ],
   "source": [
    "# neighbourhood predictor for training dataset\n",
    "\n",
    "# create an empty DataFrame:\n",
    "neighbour_predictor = pd.DataFrame(index=train_matrix.index, columns=book_bias.index)\n",
    "neighbour_predictor = neighbour_predictor.fillna(0) # with 0s rather than NaNs \n",
    "\n",
    "# fill with predicted ratings\n",
    "for r in range(predictor_matrix.shape[0]):\n",
    "    for c in range(predictor_matrix.shape[1]):\n",
    "        neighbour_predictor.iloc[r,c]  = predictor_matrix.iloc[r,c] + neighbour_baseline_error[c]\n",
    "neighbour_predictor.head(5)"
   ]
  },
  {
   "cell_type": "markdown",
   "metadata": {},
   "source": [
    "**2.7.3 Calculate the RMSE for the neighborhood predictors for the training data and your test data.**\n",
    "\n",
    "** RMSE for the training data**"
   ]
  },
  {
   "cell_type": "code",
   "execution_count": 157,
   "metadata": {},
   "outputs": [
    {
     "name": "stdout",
     "output_type": "stream",
     "text": [
      "RMSE of neighborhood predictor for training dataset : 0.407586030788146\n"
     ]
    }
   ],
   "source": [
    "# RMSE \n",
    "train_matrix = train_matrix.fillna(0)\n",
    "se = 0\n",
    "for r in range(train_matrix.shape[0]):\n",
    "    for c in range(train_matrix.shape[1]):\n",
    "        if train_matrix.iloc[r,c] != 0:\n",
    "            se= se + (train_matrix.iloc[r,c]- neighbour_predictor.iloc[r,c])**2\n",
    "\n",
    "mse = se/count_non_zero\n",
    "rmse_nghb_train = sqrt(mse)\n",
    "print('RMSE of neighborhood predictor for training dataset :', rmse_nghb_train)"
   ]
  },
  {
   "cell_type": "code",
   "execution_count": 160,
   "metadata": {},
   "outputs": [
    {
     "name": "stdout",
     "output_type": "stream",
     "text": [
      "Neighborhood similirity improve RMSE by 9% for training dataset:\n"
     ]
    }
   ],
   "source": [
    "improve_train = 1- (rmse_nghb_train/rmse_2_train)\n",
    "improve_train_nb = \"{0:.0f}%\".format(abs(improve_train)*100)\n",
    "print('Neighborhood similirity improve RMSE by', improve_train_nb, 'for training dataset:')"
   ]
  },
  {
   "cell_type": "markdown",
   "metadata": {},
   "source": [
    "**RMSE for the testing data**"
   ]
  },
  {
   "cell_type": "code",
   "execution_count": 166,
   "metadata": {},
   "outputs": [
    {
     "data": {
      "text/html": [
       "<div>\n",
       "<style>\n",
       "    .dataframe thead tr:only-child th {\n",
       "        text-align: right;\n",
       "    }\n",
       "\n",
       "    .dataframe thead th {\n",
       "        text-align: left;\n",
       "    }\n",
       "\n",
       "    .dataframe tbody tr th {\n",
       "        vertical-align: top;\n",
       "    }\n",
       "</style>\n",
       "<table border=\"1\" class=\"dataframe\">\n",
       "  <thead>\n",
       "    <tr style=\"text-align: right;\">\n",
       "      <th>ISBN</th>\n",
       "      <th>0312195516</th>\n",
       "      <th>0316666343</th>\n",
       "      <th>0345337662</th>\n",
       "      <th>0375727345</th>\n",
       "    </tr>\n",
       "    <tr>\n",
       "      <th>User-ID</th>\n",
       "      <th></th>\n",
       "      <th></th>\n",
       "      <th></th>\n",
       "      <th></th>\n",
       "    </tr>\n",
       "  </thead>\n",
       "  <tbody>\n",
       "    <tr>\n",
       "      <th>100471</th>\n",
       "      <td>7.938672</td>\n",
       "      <td>8.190010</td>\n",
       "      <td>7.297734</td>\n",
       "      <td>7.470469</td>\n",
       "    </tr>\n",
       "    <tr>\n",
       "      <th>100781</th>\n",
       "      <td>9.717602</td>\n",
       "      <td>9.717602</td>\n",
       "      <td>9.297734</td>\n",
       "      <td>9.470469</td>\n",
       "    </tr>\n",
       "    <tr>\n",
       "      <th>101154</th>\n",
       "      <td>7.938672</td>\n",
       "      <td>8.190010</td>\n",
       "      <td>7.297734</td>\n",
       "      <td>7.470469</td>\n",
       "    </tr>\n",
       "    <tr>\n",
       "      <th>103734</th>\n",
       "      <td>6.938672</td>\n",
       "      <td>7.190010</td>\n",
       "      <td>6.297734</td>\n",
       "      <td>6.470469</td>\n",
       "    </tr>\n",
       "    <tr>\n",
       "      <th>103835</th>\n",
       "      <td>5.938672</td>\n",
       "      <td>6.190010</td>\n",
       "      <td>5.297734</td>\n",
       "      <td>5.470469</td>\n",
       "    </tr>\n",
       "  </tbody>\n",
       "</table>\n",
       "</div>"
      ],
      "text/plain": [
       "ISBN     0312195516  0316666343  0345337662  0375727345\n",
       "User-ID                                                \n",
       "100471     7.938672    8.190010    7.297734    7.470469\n",
       "100781     9.717602    9.717602    9.297734    9.470469\n",
       "101154     7.938672    8.190010    7.297734    7.470469\n",
       "103734     6.938672    7.190010    6.297734    6.470469\n",
       "103835     5.938672    6.190010    5.297734    5.470469"
      ]
     },
     "execution_count": 166,
     "metadata": {},
     "output_type": "execute_result"
    }
   ],
   "source": [
    "# neighbourhood predictor for testing dataset\n",
    "\n",
    "# create an empty DataFrame:\n",
    "neighbour_predictor_te = pd.DataFrame(index=test_matrix.index, columns=book_bias.index)\n",
    "neighbour_predictor_te = neighbour_predictor_te.fillna(0) # with 0s rather than NaNs \n",
    "\n",
    "# fill with predicted ratings\n",
    "for r in range(test_matrix.shape[0]):\n",
    "    for c in range(book_bias_te.shape[0]):\n",
    "        neighbour_predictor_te.iloc[r,c]  = predictor_matrix_te.iloc[r,c] + neighbour_baseline_error[c]\n",
    "        \n",
    "neighbour_predictor_te.head()"
   ]
  },
  {
   "cell_type": "code",
   "execution_count": 167,
   "metadata": {},
   "outputs": [
    {
     "name": "stdout",
     "output_type": "stream",
     "text": [
      "RMSE of neighborhood predictor for testing dataset : 0.22794753164699097\n"
     ]
    }
   ],
   "source": [
    "# RMSE \n",
    "test_matrix = test_matrix.fillna(0)\n",
    "se = 0\n",
    "for r in range(test_matrix.shape[0]):\n",
    "    for c in range(test_matrix.shape[1]):\n",
    "        if test_matrix.iloc[r,c] != 0:\n",
    "            se = se + (test_matrix.iloc[r,c]- neighbour_predictor_te.iloc[r,c])**2\n",
    "\n",
    "mse = se/count_non_zero\n",
    "rmse_nghb_test = sqrt(mse)\n",
    "print('RMSE of neighborhood predictor for testing dataset :', rmse_nghb_test)"
   ]
  },
  {
   "cell_type": "code",
   "execution_count": 169,
   "metadata": {},
   "outputs": [
    {
     "name": "stdout",
     "output_type": "stream",
     "text": [
      "neighborhood similirity did not improve but reduce RMSE for baseline predictor by -45% for testing dataset:\n"
     ]
    }
   ],
   "source": [
    "improve_test = 1- (rmse_nghb_test/rmse_2_test)\n",
    "improve_test_nb = \"{0:.0f}%\".format(improve_test*100)\n",
    "print('neighborhood similirity did not improve but reduce RMSE for baseline predictor by', improve_test_nb, 'for testing dataset:')"
   ]
  },
  {
   "cell_type": "markdown",
   "metadata": {},
   "source": [
    "#### 3. Summary\n"
   ]
  },
  {
   "cell_type": "code",
   "execution_count": 171,
   "metadata": {},
   "outputs": [
    {
     "name": "stdout",
     "output_type": "stream",
     "text": [
      "This system recommends books to readers.\n",
      "  1. Raw average rating for training dataset is 7.78777949113\n",
      "  2.RMSE for raw average for the training data is 1.6457188190300436\n",
      "  3.RMSE for raw average for the test data is 1.0257074482614486\n",
      "  4.RMSE for the baseline predictors for the training data is 0.448324533462584\n",
      "  5.RMSE for the baseline predictors for the testing data is 0.15681359996270988\n",
      "  6.Baseline predictor improved RMSE by 0.09086833227661839 for training dataset:\n",
      "  7.Baseline predictor improved RMSE by -0.4536209340337616 for testing dataset:\n",
      "  8.RMSE for the neighborhood predictor for the training data is 0.407586030788146\n",
      "  9.RMSE for the neighborhood predictor for the training data is 0.22794753164699097\n",
      "  10.Neighborhood predictors did not improve but reduced RMSE by 9% for training dataset:\n",
      "  11.Neighborhood similirity did not improve but reduce RMSE for baseline predictor by -45% for testing dataset:\n"
     ]
    }
   ],
   "source": [
    "print('This system recommends books to readers.')\n",
    "print('  1. Raw average rating for training dataset is',raw_avg)\n",
    "\n",
    "print('  2.RMSE for raw average for the training data is',rmse_1_train)\n",
    "print('  3.RMSE for raw average for the test data is',rmse_1_test)\n",
    "\n",
    "print('  4.RMSE for the baseline predictors for the training data is',rmse_2_train)\n",
    "print('  5.RMSE for the baseline predictors for the testing data is',rmse_2_test)\n",
    "print('  6.Baseline predictor improved RMSE by', improve_train, 'for training dataset:')\n",
    "print('  7.Baseline predictor improved RMSE by', improve_test, 'for testing dataset:')\n",
    "\n",
    "print('  8.RMSE for the neighborhood predictor for the training data is',rmse_nghb_train)\n",
    "print('  9.RMSE for the neighborhood predictor for the training data is',rmse_nghb_test)\n",
    "print('  10.Neighborhood predictors did not improve but reduced RMSE by', improve_train_nb, 'for training dataset:')\n",
    "print('  11.Neighborhood similirity did not improve but reduce RMSE for baseline predictor by', improve_test_nb, 'for testing dataset:')\n",
    "\n"
   ]
  }
 ],
 "metadata": {
  "kernelspec": {
   "display_name": "Python 3",
   "language": "python",
   "name": "python3"
  },
  "language_info": {
   "codemirror_mode": {
    "name": "ipython",
    "version": 3
   },
   "file_extension": ".py",
   "mimetype": "text/x-python",
   "name": "python",
   "nbconvert_exporter": "python",
   "pygments_lexer": "ipython3",
   "version": "3.6.1"
  },
  "widgets": {
   "application/vnd.jupyter.widget-state+json": {
    "state": {},
    "version_major": 1,
    "version_minor": 0
   }
  }
 },
 "nbformat": 4,
 "nbformat_minor": 2
}
